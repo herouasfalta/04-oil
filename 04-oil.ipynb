{
 "cells": [
  {
   "cell_type": "markdown",
   "metadata": {},
   "source": [
    "# Выбор локации для скважины"
   ]
  },
  {
   "cell_type": "markdown",
   "metadata": {},
   "source": [
    "Допустим, вы работаете в добывающей компании «ГлавРосГосНефть». Нужно решить, где бурить новую скважину.\n",
    "\n",
    "Вам предоставлены пробы нефти в трёх регионах: в каждом 10 000 месторождений, где измерили качество нефти и объём её запасов. Постройте модель машинного обучения, которая поможет определить регион, где добыча принесёт наибольшую прибыль. Проанализируйте возможную прибыль и риски техникой *Bootstrap.*\n",
    "\n",
    "Шаги для выбора локации:\n",
    "\n",
    "- В избранном регионе ищут месторождения, для каждого определяют значения признаков;\n",
    "- Строят модель и оценивают объём запасов;\n",
    "- Выбирают месторождения с самым высокими оценками значений. Количество месторождений зависит от бюджета компании и стоимости разработки одной скважины;\n",
    "- Прибыль равна суммарной прибыли отобранных месторождений."
   ]
  },
  {
   "cell_type": "markdown",
   "metadata": {},
   "source": [
    "Описание данных\n",
    "- id— уникальный идентификатор скважины;\n",
    "- f0, f1, f2— три признака точек (неважно, что они означают, но сами признаки значимы);\n",
    "- product— объём запасов в скважине (тыс. баррелей)."
   ]
  },
  {
   "cell_type": "markdown",
   "metadata": {},
   "source": [
    "Условия задачи:\n",
    "- Для обучения модели подходит только линейная регрессия (остальные — недостаточно предсказуемые).\n",
    "- При разведке региона исследуют 500 точек, из которых с помощью машинного обучения выбирают 200 лучших для разработки.\n",
    "- Бюджет на разработку скважин в регионе — 10 млрд рублей.\n",
    "- При нынешних ценах один баррель сырья приносит 450 рублей дохода. Доход с каждой единицы продукта составляет 450 тыс. рублей, поскольку объём указан в тысячах баррелей.\n",
    "- После оценки рисков нужно оставить лишь те регионы, в которых вероятность убытков меньше 2.5%. Среди них выбирают регион с наибольшей средней прибылью.\n",
    "Данные синтетические: детали контрактов и характеристики месторождений не разглашаются."
   ]
  },
  {
   "cell_type": "markdown",
   "metadata": {},
   "source": [
    "## Загрузка и подготовка данных"
   ]
  },
  {
   "cell_type": "code",
   "execution_count": 1,
   "metadata": {},
   "outputs": [],
   "source": [
    "import pandas as pd\n",
    "import numpy as np\n",
    "import matplotlib.pyplot as plt\n",
    "from sklearn.linear_model import LinearRegression\n",
    "from sklearn.preprocessing import StandardScaler\n",
    "from sklearn.model_selection import train_test_split\n",
    "from sklearn.metrics import mean_squared_error\n",
    "from sklearn.metrics import roc_curve\n",
    "from sklearn.metrics import r2_score\n",
    "from sklearn.metrics import mean_absolute_error"
   ]
  },
  {
   "cell_type": "code",
   "execution_count": 2,
   "metadata": {},
   "outputs": [
    {
     "data": {
      "text/html": [
       "<div>\n",
       "<style scoped>\n",
       "    .dataframe tbody tr th:only-of-type {\n",
       "        vertical-align: middle;\n",
       "    }\n",
       "\n",
       "    .dataframe tbody tr th {\n",
       "        vertical-align: top;\n",
       "    }\n",
       "\n",
       "    .dataframe thead th {\n",
       "        text-align: right;\n",
       "    }\n",
       "</style>\n",
       "<table border=\"1\" class=\"dataframe\">\n",
       "  <thead>\n",
       "    <tr style=\"text-align: right;\">\n",
       "      <th></th>\n",
       "      <th>id</th>\n",
       "      <th>f0</th>\n",
       "      <th>f1</th>\n",
       "      <th>f2</th>\n",
       "      <th>product</th>\n",
       "    </tr>\n",
       "  </thead>\n",
       "  <tbody>\n",
       "    <tr>\n",
       "      <th>0</th>\n",
       "      <td>txEyH</td>\n",
       "      <td>0.705745</td>\n",
       "      <td>-0.497823</td>\n",
       "      <td>1.221170</td>\n",
       "      <td>105.280062</td>\n",
       "    </tr>\n",
       "    <tr>\n",
       "      <th>1</th>\n",
       "      <td>2acmU</td>\n",
       "      <td>1.334711</td>\n",
       "      <td>-0.340164</td>\n",
       "      <td>4.365080</td>\n",
       "      <td>73.037750</td>\n",
       "    </tr>\n",
       "    <tr>\n",
       "      <th>2</th>\n",
       "      <td>409Wp</td>\n",
       "      <td>1.022732</td>\n",
       "      <td>0.151990</td>\n",
       "      <td>1.419926</td>\n",
       "      <td>85.265647</td>\n",
       "    </tr>\n",
       "    <tr>\n",
       "      <th>3</th>\n",
       "      <td>iJLyR</td>\n",
       "      <td>-0.032172</td>\n",
       "      <td>0.139033</td>\n",
       "      <td>2.978566</td>\n",
       "      <td>168.620776</td>\n",
       "    </tr>\n",
       "    <tr>\n",
       "      <th>4</th>\n",
       "      <td>Xdl7t</td>\n",
       "      <td>1.988431</td>\n",
       "      <td>0.155413</td>\n",
       "      <td>4.751769</td>\n",
       "      <td>154.036647</td>\n",
       "    </tr>\n",
       "    <tr>\n",
       "      <th>...</th>\n",
       "      <td>...</td>\n",
       "      <td>...</td>\n",
       "      <td>...</td>\n",
       "      <td>...</td>\n",
       "      <td>...</td>\n",
       "    </tr>\n",
       "    <tr>\n",
       "      <th>99995</th>\n",
       "      <td>DLsed</td>\n",
       "      <td>0.971957</td>\n",
       "      <td>0.370953</td>\n",
       "      <td>6.075346</td>\n",
       "      <td>110.744026</td>\n",
       "    </tr>\n",
       "    <tr>\n",
       "      <th>99996</th>\n",
       "      <td>QKivN</td>\n",
       "      <td>1.392429</td>\n",
       "      <td>-0.382606</td>\n",
       "      <td>1.273912</td>\n",
       "      <td>122.346843</td>\n",
       "    </tr>\n",
       "    <tr>\n",
       "      <th>99997</th>\n",
       "      <td>3rnvd</td>\n",
       "      <td>1.029585</td>\n",
       "      <td>0.018787</td>\n",
       "      <td>-1.348308</td>\n",
       "      <td>64.375443</td>\n",
       "    </tr>\n",
       "    <tr>\n",
       "      <th>99998</th>\n",
       "      <td>7kl59</td>\n",
       "      <td>0.998163</td>\n",
       "      <td>-0.528582</td>\n",
       "      <td>1.583869</td>\n",
       "      <td>74.040764</td>\n",
       "    </tr>\n",
       "    <tr>\n",
       "      <th>99999</th>\n",
       "      <td>1CWhH</td>\n",
       "      <td>1.764754</td>\n",
       "      <td>-0.266417</td>\n",
       "      <td>5.722849</td>\n",
       "      <td>149.633246</td>\n",
       "    </tr>\n",
       "  </tbody>\n",
       "</table>\n",
       "<p>100000 rows × 5 columns</p>\n",
       "</div>"
      ],
      "text/plain": [
       "          id        f0        f1        f2     product\n",
       "0      txEyH  0.705745 -0.497823  1.221170  105.280062\n",
       "1      2acmU  1.334711 -0.340164  4.365080   73.037750\n",
       "2      409Wp  1.022732  0.151990  1.419926   85.265647\n",
       "3      iJLyR -0.032172  0.139033  2.978566  168.620776\n",
       "4      Xdl7t  1.988431  0.155413  4.751769  154.036647\n",
       "...      ...       ...       ...       ...         ...\n",
       "99995  DLsed  0.971957  0.370953  6.075346  110.744026\n",
       "99996  QKivN  1.392429 -0.382606  1.273912  122.346843\n",
       "99997  3rnvd  1.029585  0.018787 -1.348308   64.375443\n",
       "99998  7kl59  0.998163 -0.528582  1.583869   74.040764\n",
       "99999  1CWhH  1.764754 -0.266417  5.722849  149.633246\n",
       "\n",
       "[100000 rows x 5 columns]"
      ]
     },
     "metadata": {},
     "output_type": "display_data"
    },
    {
     "name": "stdout",
     "output_type": "stream",
     "text": [
      "<class 'pandas.core.frame.DataFrame'>\n",
      "RangeIndex: 100000 entries, 0 to 99999\n",
      "Data columns (total 5 columns):\n",
      " #   Column   Non-Null Count   Dtype  \n",
      "---  ------   --------------   -----  \n",
      " 0   id       100000 non-null  object \n",
      " 1   f0       100000 non-null  float64\n",
      " 2   f1       100000 non-null  float64\n",
      " 3   f2       100000 non-null  float64\n",
      " 4   product  100000 non-null  float64\n",
      "dtypes: float64(4), object(1)\n",
      "memory usage: 3.8+ MB\n"
     ]
    }
   ],
   "source": [
    "df0 = pd.read_csv ('/datasets/geo_data_0.csv')\n",
    "display (df0)\n",
    "df0.info ()"
   ]
  },
  {
   "cell_type": "code",
   "execution_count": 3,
   "metadata": {},
   "outputs": [
    {
     "data": {
      "text/html": [
       "<div>\n",
       "<style scoped>\n",
       "    .dataframe tbody tr th:only-of-type {\n",
       "        vertical-align: middle;\n",
       "    }\n",
       "\n",
       "    .dataframe tbody tr th {\n",
       "        vertical-align: top;\n",
       "    }\n",
       "\n",
       "    .dataframe thead th {\n",
       "        text-align: right;\n",
       "    }\n",
       "</style>\n",
       "<table border=\"1\" class=\"dataframe\">\n",
       "  <thead>\n",
       "    <tr style=\"text-align: right;\">\n",
       "      <th></th>\n",
       "      <th>id</th>\n",
       "      <th>f0</th>\n",
       "      <th>f1</th>\n",
       "      <th>f2</th>\n",
       "      <th>product</th>\n",
       "    </tr>\n",
       "  </thead>\n",
       "  <tbody>\n",
       "    <tr>\n",
       "      <th>0</th>\n",
       "      <td>kBEdx</td>\n",
       "      <td>-15.001348</td>\n",
       "      <td>-8.276000</td>\n",
       "      <td>-0.005876</td>\n",
       "      <td>3.179103</td>\n",
       "    </tr>\n",
       "    <tr>\n",
       "      <th>1</th>\n",
       "      <td>62mP7</td>\n",
       "      <td>14.272088</td>\n",
       "      <td>-3.475083</td>\n",
       "      <td>0.999183</td>\n",
       "      <td>26.953261</td>\n",
       "    </tr>\n",
       "    <tr>\n",
       "      <th>2</th>\n",
       "      <td>vyE1P</td>\n",
       "      <td>6.263187</td>\n",
       "      <td>-5.948386</td>\n",
       "      <td>5.001160</td>\n",
       "      <td>134.766305</td>\n",
       "    </tr>\n",
       "    <tr>\n",
       "      <th>3</th>\n",
       "      <td>KcrkZ</td>\n",
       "      <td>-13.081196</td>\n",
       "      <td>-11.506057</td>\n",
       "      <td>4.999415</td>\n",
       "      <td>137.945408</td>\n",
       "    </tr>\n",
       "    <tr>\n",
       "      <th>4</th>\n",
       "      <td>AHL4O</td>\n",
       "      <td>12.702195</td>\n",
       "      <td>-8.147433</td>\n",
       "      <td>5.004363</td>\n",
       "      <td>134.766305</td>\n",
       "    </tr>\n",
       "    <tr>\n",
       "      <th>...</th>\n",
       "      <td>...</td>\n",
       "      <td>...</td>\n",
       "      <td>...</td>\n",
       "      <td>...</td>\n",
       "      <td>...</td>\n",
       "    </tr>\n",
       "    <tr>\n",
       "      <th>99995</th>\n",
       "      <td>QywKC</td>\n",
       "      <td>9.535637</td>\n",
       "      <td>-6.878139</td>\n",
       "      <td>1.998296</td>\n",
       "      <td>53.906522</td>\n",
       "    </tr>\n",
       "    <tr>\n",
       "      <th>99996</th>\n",
       "      <td>ptvty</td>\n",
       "      <td>-10.160631</td>\n",
       "      <td>-12.558096</td>\n",
       "      <td>5.005581</td>\n",
       "      <td>137.945408</td>\n",
       "    </tr>\n",
       "    <tr>\n",
       "      <th>99997</th>\n",
       "      <td>09gWa</td>\n",
       "      <td>-7.378891</td>\n",
       "      <td>-3.084104</td>\n",
       "      <td>4.998651</td>\n",
       "      <td>137.945408</td>\n",
       "    </tr>\n",
       "    <tr>\n",
       "      <th>99998</th>\n",
       "      <td>rqwUm</td>\n",
       "      <td>0.665714</td>\n",
       "      <td>-6.152593</td>\n",
       "      <td>1.000146</td>\n",
       "      <td>30.132364</td>\n",
       "    </tr>\n",
       "    <tr>\n",
       "      <th>99999</th>\n",
       "      <td>relB0</td>\n",
       "      <td>-3.426139</td>\n",
       "      <td>-7.794274</td>\n",
       "      <td>-0.003299</td>\n",
       "      <td>3.179103</td>\n",
       "    </tr>\n",
       "  </tbody>\n",
       "</table>\n",
       "<p>100000 rows × 5 columns</p>\n",
       "</div>"
      ],
      "text/plain": [
       "          id         f0         f1        f2     product\n",
       "0      kBEdx -15.001348  -8.276000 -0.005876    3.179103\n",
       "1      62mP7  14.272088  -3.475083  0.999183   26.953261\n",
       "2      vyE1P   6.263187  -5.948386  5.001160  134.766305\n",
       "3      KcrkZ -13.081196 -11.506057  4.999415  137.945408\n",
       "4      AHL4O  12.702195  -8.147433  5.004363  134.766305\n",
       "...      ...        ...        ...       ...         ...\n",
       "99995  QywKC   9.535637  -6.878139  1.998296   53.906522\n",
       "99996  ptvty -10.160631 -12.558096  5.005581  137.945408\n",
       "99997  09gWa  -7.378891  -3.084104  4.998651  137.945408\n",
       "99998  rqwUm   0.665714  -6.152593  1.000146   30.132364\n",
       "99999  relB0  -3.426139  -7.794274 -0.003299    3.179103\n",
       "\n",
       "[100000 rows x 5 columns]"
      ]
     },
     "metadata": {},
     "output_type": "display_data"
    },
    {
     "name": "stdout",
     "output_type": "stream",
     "text": [
      "<class 'pandas.core.frame.DataFrame'>\n",
      "RangeIndex: 100000 entries, 0 to 99999\n",
      "Data columns (total 5 columns):\n",
      " #   Column   Non-Null Count   Dtype  \n",
      "---  ------   --------------   -----  \n",
      " 0   id       100000 non-null  object \n",
      " 1   f0       100000 non-null  float64\n",
      " 2   f1       100000 non-null  float64\n",
      " 3   f2       100000 non-null  float64\n",
      " 4   product  100000 non-null  float64\n",
      "dtypes: float64(4), object(1)\n",
      "memory usage: 3.8+ MB\n"
     ]
    }
   ],
   "source": [
    "df1 = pd.read_csv ('/datasets/geo_data_1.csv')\n",
    "display (df1)\n",
    "df1.info()"
   ]
  },
  {
   "cell_type": "code",
   "execution_count": 4,
   "metadata": {},
   "outputs": [
    {
     "data": {
      "text/html": [
       "<div>\n",
       "<style scoped>\n",
       "    .dataframe tbody tr th:only-of-type {\n",
       "        vertical-align: middle;\n",
       "    }\n",
       "\n",
       "    .dataframe tbody tr th {\n",
       "        vertical-align: top;\n",
       "    }\n",
       "\n",
       "    .dataframe thead th {\n",
       "        text-align: right;\n",
       "    }\n",
       "</style>\n",
       "<table border=\"1\" class=\"dataframe\">\n",
       "  <thead>\n",
       "    <tr style=\"text-align: right;\">\n",
       "      <th></th>\n",
       "      <th>id</th>\n",
       "      <th>f0</th>\n",
       "      <th>f1</th>\n",
       "      <th>f2</th>\n",
       "      <th>product</th>\n",
       "    </tr>\n",
       "  </thead>\n",
       "  <tbody>\n",
       "    <tr>\n",
       "      <th>0</th>\n",
       "      <td>fwXo0</td>\n",
       "      <td>-1.146987</td>\n",
       "      <td>0.963328</td>\n",
       "      <td>-0.828965</td>\n",
       "      <td>27.758673</td>\n",
       "    </tr>\n",
       "    <tr>\n",
       "      <th>1</th>\n",
       "      <td>WJtFt</td>\n",
       "      <td>0.262778</td>\n",
       "      <td>0.269839</td>\n",
       "      <td>-2.530187</td>\n",
       "      <td>56.069697</td>\n",
       "    </tr>\n",
       "    <tr>\n",
       "      <th>2</th>\n",
       "      <td>ovLUW</td>\n",
       "      <td>0.194587</td>\n",
       "      <td>0.289035</td>\n",
       "      <td>-5.586433</td>\n",
       "      <td>62.871910</td>\n",
       "    </tr>\n",
       "    <tr>\n",
       "      <th>3</th>\n",
       "      <td>q6cA6</td>\n",
       "      <td>2.236060</td>\n",
       "      <td>-0.553760</td>\n",
       "      <td>0.930038</td>\n",
       "      <td>114.572842</td>\n",
       "    </tr>\n",
       "    <tr>\n",
       "      <th>4</th>\n",
       "      <td>WPMUX</td>\n",
       "      <td>-0.515993</td>\n",
       "      <td>1.716266</td>\n",
       "      <td>5.899011</td>\n",
       "      <td>149.600746</td>\n",
       "    </tr>\n",
       "    <tr>\n",
       "      <th>...</th>\n",
       "      <td>...</td>\n",
       "      <td>...</td>\n",
       "      <td>...</td>\n",
       "      <td>...</td>\n",
       "      <td>...</td>\n",
       "    </tr>\n",
       "    <tr>\n",
       "      <th>99995</th>\n",
       "      <td>4GxBu</td>\n",
       "      <td>-1.777037</td>\n",
       "      <td>1.125220</td>\n",
       "      <td>6.263374</td>\n",
       "      <td>172.327046</td>\n",
       "    </tr>\n",
       "    <tr>\n",
       "      <th>99996</th>\n",
       "      <td>YKFjq</td>\n",
       "      <td>-1.261523</td>\n",
       "      <td>-0.894828</td>\n",
       "      <td>2.524545</td>\n",
       "      <td>138.748846</td>\n",
       "    </tr>\n",
       "    <tr>\n",
       "      <th>99997</th>\n",
       "      <td>tKPY3</td>\n",
       "      <td>-1.199934</td>\n",
       "      <td>-2.957637</td>\n",
       "      <td>5.219411</td>\n",
       "      <td>157.080080</td>\n",
       "    </tr>\n",
       "    <tr>\n",
       "      <th>99998</th>\n",
       "      <td>nmxp2</td>\n",
       "      <td>-2.419896</td>\n",
       "      <td>2.417221</td>\n",
       "      <td>-5.548444</td>\n",
       "      <td>51.795253</td>\n",
       "    </tr>\n",
       "    <tr>\n",
       "      <th>99999</th>\n",
       "      <td>V9kWn</td>\n",
       "      <td>-2.551421</td>\n",
       "      <td>-2.025625</td>\n",
       "      <td>6.090891</td>\n",
       "      <td>102.775767</td>\n",
       "    </tr>\n",
       "  </tbody>\n",
       "</table>\n",
       "<p>100000 rows × 5 columns</p>\n",
       "</div>"
      ],
      "text/plain": [
       "          id        f0        f1        f2     product\n",
       "0      fwXo0 -1.146987  0.963328 -0.828965   27.758673\n",
       "1      WJtFt  0.262778  0.269839 -2.530187   56.069697\n",
       "2      ovLUW  0.194587  0.289035 -5.586433   62.871910\n",
       "3      q6cA6  2.236060 -0.553760  0.930038  114.572842\n",
       "4      WPMUX -0.515993  1.716266  5.899011  149.600746\n",
       "...      ...       ...       ...       ...         ...\n",
       "99995  4GxBu -1.777037  1.125220  6.263374  172.327046\n",
       "99996  YKFjq -1.261523 -0.894828  2.524545  138.748846\n",
       "99997  tKPY3 -1.199934 -2.957637  5.219411  157.080080\n",
       "99998  nmxp2 -2.419896  2.417221 -5.548444   51.795253\n",
       "99999  V9kWn -2.551421 -2.025625  6.090891  102.775767\n",
       "\n",
       "[100000 rows x 5 columns]"
      ]
     },
     "metadata": {},
     "output_type": "display_data"
    },
    {
     "name": "stdout",
     "output_type": "stream",
     "text": [
      "<class 'pandas.core.frame.DataFrame'>\n",
      "RangeIndex: 100000 entries, 0 to 99999\n",
      "Data columns (total 5 columns):\n",
      " #   Column   Non-Null Count   Dtype  \n",
      "---  ------   --------------   -----  \n",
      " 0   id       100000 non-null  object \n",
      " 1   f0       100000 non-null  float64\n",
      " 2   f1       100000 non-null  float64\n",
      " 3   f2       100000 non-null  float64\n",
      " 4   product  100000 non-null  float64\n",
      "dtypes: float64(4), object(1)\n",
      "memory usage: 3.8+ MB\n"
     ]
    }
   ],
   "source": [
    "df2 = pd.read_csv ('/datasets/geo_data_2.csv')\n",
    "display (df2)\n",
    "df2.info()"
   ]
  },
  {
   "cell_type": "markdown",
   "metadata": {},
   "source": [
    "### Проверяю данные на наличие дубликатов"
   ]
  },
  {
   "cell_type": "code",
   "execution_count": 5,
   "metadata": {},
   "outputs": [
    {
     "name": "stdout",
     "output_type": "stream",
     "text": [
      "Количество дубликатов в df0: 0\n",
      "Количество дубликатов в df1: 0\n",
      "Количество дубликатов в df2: 0\n"
     ]
    }
   ],
   "source": [
    "print ('Количество дубликатов в df0:', df0.duplicated().sum())\n",
    "print ('Количество дубликатов в df1:', df1.duplicated().sum())\n",
    "print ('Количество дубликатов в df2:', df2.duplicated().sum())"
   ]
  },
  {
   "cell_type": "markdown",
   "metadata": {},
   "source": [
    "Открыла таблицы со сведениями по каждому региону. Пропусков и дубликатов в данных не обнаружила. Обнаружила, что у данных разный масштаб, поэтому ниже применю масштабирование."
   ]
  },
  {
   "cell_type": "markdown",
   "metadata": {},
   "source": [
    "## Обучение и проверка модели"
   ]
  },
  {
   "cell_type": "markdown",
   "metadata": {},
   "source": [
    "### Обучение и проверка модели для региона df0"
   ]
  },
  {
   "cell_type": "markdown",
   "metadata": {},
   "source": [
    "**Разбиваю данные на выборки в соотношении 75-25%**"
   ]
  },
  {
   "cell_type": "code",
   "execution_count": 6,
   "metadata": {},
   "outputs": [],
   "source": [
    "df0_train, df0_valid = train_test_split(df0, test_size=0.25, random_state=12345) #сначала делю данные 75-25%\n",
    "\n",
    "features_train0 = df0_train.drop(['product', 'id'], axis=1)\n",
    "target_train0 = df0_train['product']\n",
    "\n",
    "features_valid0 = df0_valid.drop(['product', 'id'], axis=1)\n",
    "target_valid0 = df0_valid['product']"
   ]
  },
  {
   "cell_type": "markdown",
   "metadata": {},
   "source": [
    "**Масштабирую признаки f0,\tf1,\tf2**"
   ]
  },
  {
   "cell_type": "code",
   "execution_count": 7,
   "metadata": {},
   "outputs": [
    {
     "name": "stdout",
     "output_type": "stream",
     "text": [
      "(75000, 3)\n"
     ]
    },
    {
     "data": {
      "text/html": [
       "<div>\n",
       "<style scoped>\n",
       "    .dataframe tbody tr th:only-of-type {\n",
       "        vertical-align: middle;\n",
       "    }\n",
       "\n",
       "    .dataframe tbody tr th {\n",
       "        vertical-align: top;\n",
       "    }\n",
       "\n",
       "    .dataframe thead th {\n",
       "        text-align: right;\n",
       "    }\n",
       "</style>\n",
       "<table border=\"1\" class=\"dataframe\">\n",
       "  <thead>\n",
       "    <tr style=\"text-align: right;\">\n",
       "      <th></th>\n",
       "      <th>f0</th>\n",
       "      <th>f1</th>\n",
       "      <th>f2</th>\n",
       "    </tr>\n",
       "  </thead>\n",
       "  <tbody>\n",
       "    <tr>\n",
       "      <th>27212</th>\n",
       "      <td>-0.544828</td>\n",
       "      <td>1.390264</td>\n",
       "      <td>-0.094959</td>\n",
       "    </tr>\n",
       "    <tr>\n",
       "      <th>7866</th>\n",
       "      <td>1.455912</td>\n",
       "      <td>-0.480422</td>\n",
       "      <td>1.209567</td>\n",
       "    </tr>\n",
       "    <tr>\n",
       "      <th>62041</th>\n",
       "      <td>0.260460</td>\n",
       "      <td>0.825069</td>\n",
       "      <td>-0.204865</td>\n",
       "    </tr>\n",
       "    <tr>\n",
       "      <th>70185</th>\n",
       "      <td>-1.837105</td>\n",
       "      <td>0.010321</td>\n",
       "      <td>-0.147634</td>\n",
       "    </tr>\n",
       "    <tr>\n",
       "      <th>82230</th>\n",
       "      <td>-1.299243</td>\n",
       "      <td>0.987558</td>\n",
       "      <td>1.273181</td>\n",
       "    </tr>\n",
       "  </tbody>\n",
       "</table>\n",
       "</div>"
      ],
      "text/plain": [
       "             f0        f1        f2\n",
       "27212 -0.544828  1.390264 -0.094959\n",
       "7866   1.455912 -0.480422  1.209567\n",
       "62041  0.260460  0.825069 -0.204865\n",
       "70185 -1.837105  0.010321 -0.147634\n",
       "82230 -1.299243  0.987558  1.273181"
      ]
     },
     "metadata": {},
     "output_type": "display_data"
    }
   ],
   "source": [
    "numeric = ['f0', 'f1', 'f2']\n",
    "\n",
    "scaler = StandardScaler()\n",
    "scaler.fit(features_train0[numeric])\n",
    "features_train0[numeric] = scaler.transform(features_train0[numeric])\n",
    "features_valid0[numeric] = scaler.transform(features_valid0[numeric])\n",
    "\n",
    "print(features_train0.shape)\n",
    "display (features_train0.head(5))"
   ]
  },
  {
   "cell_type": "markdown",
   "metadata": {},
   "source": [
    "**Запускаю модель линейной регрессии для региона df0**"
   ]
  },
  {
   "cell_type": "code",
   "execution_count": 8,
   "metadata": {},
   "outputs": [
    {
     "name": "stdout",
     "output_type": "stream",
     "text": [
      "RMSE модели линейной регрессии на валидационной выборке: 37.5794217150813\n"
     ]
    }
   ],
   "source": [
    "model = LinearRegression()\n",
    "model.fit(features_train0, target_train0)\n",
    "predictions_train0 = model.predict (features_train0)\n",
    "predictions_valid0 = model.predict(features_valid0)\n",
    "\n",
    "result0 = mean_squared_error(target_valid0, predictions_valid0)**0.5\n",
    "print(\"RMSE модели линейной регрессии на валидационной выборке:\", result0)"
   ]
  },
  {
   "cell_type": "markdown",
   "metadata": {},
   "source": [
    "**Считаю среднее абсолютное отколонение MAE**"
   ]
  },
  {
   "cell_type": "code",
   "execution_count": 9,
   "metadata": {},
   "outputs": [
    {
     "name": "stdout",
     "output_type": "stream",
     "text": [
      "MAE для региона df0 на обучающей выборке:  31.079961075786297\n",
      "MAE для региона df0 на валидационной выборке:  30.919600777151313\n"
     ]
    }
   ],
   "source": [
    "print(\"MAE для региона df0 на обучающей выборке: \", mean_absolute_error(target_train0, predictions_train0))\n",
    "print(\"MAE для региона df0 на валидационной выборке: \", mean_absolute_error(target_valid0, predictions_valid0))"
   ]
  },
  {
   "cell_type": "markdown",
   "metadata": {},
   "source": [
    "**Вычисляю значение MAE для медианы целевого признака**"
   ]
  },
  {
   "cell_type": "code",
   "execution_count": 10,
   "metadata": {},
   "outputs": [
    {
     "name": "stdout",
     "output_type": "stream",
     "text": [
      "Медиана MAE для региона df0 37.67178003955267\n"
     ]
    }
   ],
   "source": [
    "predictions_valid_median0 = pd.Series(target_train0.median(), index=target_valid0.index)\n",
    "print(\"Медиана MAE для региона df0\", mean_absolute_error(target_valid0, predictions_valid_median0))"
   ]
  },
  {
   "cell_type": "markdown",
   "metadata": {},
   "source": [
    "Значения MAE на обучающей и валидационных выборках меньше, чем MAE медианы. Значит модель корректно работает."
   ]
  },
  {
   "cell_type": "markdown",
   "metadata": {},
   "source": [
    "**Считаю средний запас предсказанного сырья на валидационной выборке**"
   ]
  },
  {
   "cell_type": "code",
   "execution_count": 11,
   "metadata": {},
   "outputs": [
    {
     "name": "stdout",
     "output_type": "stream",
     "text": [
      "92.59256778438035\n"
     ]
    }
   ],
   "source": [
    "print (predictions_valid0.mean())"
   ]
  },
  {
   "cell_type": "markdown",
   "metadata": {},
   "source": [
    "### Обучение и проверка модели для региона df1"
   ]
  },
  {
   "cell_type": "code",
   "execution_count": 12,
   "metadata": {},
   "outputs": [],
   "source": [
    "df1_train, df1_valid = train_test_split(df1, test_size=0.25, random_state=12345) #сначала делю данные 75-25%\n",
    "\n",
    "features_train1 = df1_train.drop(['product', 'id'], axis=1)\n",
    "target_train1 = df1_train['product']\n",
    "\n",
    "features_valid1 = df1_valid.drop(['product', 'id'], axis=1)\n",
    "target_valid1 = df1_valid['product']"
   ]
  },
  {
   "cell_type": "markdown",
   "metadata": {},
   "source": [
    "**Масштабирую признаки f0,\tf1,\tf2**"
   ]
  },
  {
   "cell_type": "code",
   "execution_count": 13,
   "metadata": {},
   "outputs": [
    {
     "name": "stdout",
     "output_type": "stream",
     "text": [
      "(75000, 3)\n"
     ]
    },
    {
     "data": {
      "text/html": [
       "<div>\n",
       "<style scoped>\n",
       "    .dataframe tbody tr th:only-of-type {\n",
       "        vertical-align: middle;\n",
       "    }\n",
       "\n",
       "    .dataframe tbody tr th {\n",
       "        vertical-align: top;\n",
       "    }\n",
       "\n",
       "    .dataframe thead th {\n",
       "        text-align: right;\n",
       "    }\n",
       "</style>\n",
       "<table border=\"1\" class=\"dataframe\">\n",
       "  <thead>\n",
       "    <tr style=\"text-align: right;\">\n",
       "      <th></th>\n",
       "      <th>f0</th>\n",
       "      <th>f1</th>\n",
       "      <th>f2</th>\n",
       "    </tr>\n",
       "  </thead>\n",
       "  <tbody>\n",
       "    <tr>\n",
       "      <th>27212</th>\n",
       "      <td>-0.850855</td>\n",
       "      <td>0.624428</td>\n",
       "      <td>0.296943</td>\n",
       "    </tr>\n",
       "    <tr>\n",
       "      <th>7866</th>\n",
       "      <td>1.971935</td>\n",
       "      <td>1.832275</td>\n",
       "      <td>0.294333</td>\n",
       "    </tr>\n",
       "    <tr>\n",
       "      <th>62041</th>\n",
       "      <td>1.079305</td>\n",
       "      <td>0.170127</td>\n",
       "      <td>-0.296418</td>\n",
       "    </tr>\n",
       "    <tr>\n",
       "      <th>70185</th>\n",
       "      <td>-1.512028</td>\n",
       "      <td>-0.887837</td>\n",
       "      <td>-0.880471</td>\n",
       "    </tr>\n",
       "    <tr>\n",
       "      <th>82230</th>\n",
       "      <td>-1.804775</td>\n",
       "      <td>-0.718311</td>\n",
       "      <td>-0.293255</td>\n",
       "    </tr>\n",
       "  </tbody>\n",
       "</table>\n",
       "</div>"
      ],
      "text/plain": [
       "             f0        f1        f2\n",
       "27212 -0.850855  0.624428  0.296943\n",
       "7866   1.971935  1.832275  0.294333\n",
       "62041  1.079305  0.170127 -0.296418\n",
       "70185 -1.512028 -0.887837 -0.880471\n",
       "82230 -1.804775 -0.718311 -0.293255"
      ]
     },
     "metadata": {},
     "output_type": "display_data"
    }
   ],
   "source": [
    "numeric = ['f0', 'f1', 'f2']\n",
    "\n",
    "scaler = StandardScaler()\n",
    "scaler.fit(features_train1[numeric])\n",
    "features_train1[numeric] = scaler.transform(features_train1[numeric])\n",
    "features_valid1[numeric] = scaler.transform(features_valid1[numeric])\n",
    "\n",
    "print(features_train1.shape)\n",
    "display (features_train1.head(5))"
   ]
  },
  {
   "cell_type": "markdown",
   "metadata": {},
   "source": [
    "**Запускаю модель линейной регрессии для региона df1**"
   ]
  },
  {
   "cell_type": "code",
   "execution_count": 14,
   "metadata": {},
   "outputs": [
    {
     "name": "stdout",
     "output_type": "stream",
     "text": [
      "RMSE модели линейной регрессии на валидационной выборке: 0.893099286775617\n"
     ]
    }
   ],
   "source": [
    "model = LinearRegression()\n",
    "model.fit(features_train1, target_train1)\n",
    "predictions_train1 = model.predict (features_train1)\n",
    "predictions_valid1 = model.predict(features_valid1)\n",
    "\n",
    "result1 = mean_squared_error(target_valid1, predictions_valid1)**0.5\n",
    "print(\"RMSE модели линейной регрессии на валидационной выборке:\", result1)"
   ]
  },
  {
   "cell_type": "markdown",
   "metadata": {},
   "source": [
    "**Считаю среднее абсолютное отколонение MAE**"
   ]
  },
  {
   "cell_type": "code",
   "execution_count": 15,
   "metadata": {},
   "outputs": [
    {
     "name": "stdout",
     "output_type": "stream",
     "text": [
      "MAE для региона df0 на обучающей выборке:  0.7168438837861948\n",
      "MAE для региона df1 на валидационной выборке:  0.7187662442124758\n"
     ]
    }
   ],
   "source": [
    "print(\"MAE для региона df0 на обучающей выборке: \", mean_absolute_error(target_train1, predictions_train1))\n",
    "print(\"MAE для региона df1 на валидационной выборке: \", mean_absolute_error(target_valid1, predictions_valid1))"
   ]
  },
  {
   "cell_type": "markdown",
   "metadata": {},
   "source": [
    "**Вычисляю значение MAE для медианы целевого признака**"
   ]
  },
  {
   "cell_type": "code",
   "execution_count": 16,
   "metadata": {},
   "outputs": [
    {
     "name": "stdout",
     "output_type": "stream",
     "text": [
      "Медиана MAE для региона df1 40.26547941945416\n"
     ]
    }
   ],
   "source": [
    "predictions_valid_median1 = pd.Series(target_train1.median(), index=target_valid1.index)\n",
    "print(\"Медиана MAE для региона df1\", mean_absolute_error(target_valid1, predictions_valid_median1))"
   ]
  },
  {
   "cell_type": "markdown",
   "metadata": {},
   "source": [
    "**Считаю средний запас предсказанного сырья на валидационной выборке**"
   ]
  },
  {
   "cell_type": "code",
   "execution_count": 17,
   "metadata": {
    "scrolled": true
   },
   "outputs": [
    {
     "name": "stdout",
     "output_type": "stream",
     "text": [
      "68.728546895446\n"
     ]
    }
   ],
   "source": [
    "print (predictions_valid1.mean())"
   ]
  },
  {
   "cell_type": "markdown",
   "metadata": {},
   "source": [
    "### Обучение и проверка модели для региона df2"
   ]
  },
  {
   "cell_type": "code",
   "execution_count": 18,
   "metadata": {},
   "outputs": [],
   "source": [
    "df2_train, df2_valid = train_test_split(df2, test_size=0.25, random_state=12345) #сначала делю данные 75-25%\n",
    "\n",
    "features_train2 = df2_train.drop(['product', 'id'], axis=1)\n",
    "target_train2 = df2_train['product']\n",
    "\n",
    "features_valid2 = df2_valid.drop(['product', 'id'], axis=1)\n",
    "target_valid2 = df2_valid['product']"
   ]
  },
  {
   "cell_type": "markdown",
   "metadata": {},
   "source": [
    "**Масштабирую признаки f0,\tf1,\tf2**"
   ]
  },
  {
   "cell_type": "code",
   "execution_count": 19,
   "metadata": {},
   "outputs": [
    {
     "name": "stdout",
     "output_type": "stream",
     "text": [
      "(75000, 3)\n"
     ]
    },
    {
     "data": {
      "text/html": [
       "<div>\n",
       "<style scoped>\n",
       "    .dataframe tbody tr th:only-of-type {\n",
       "        vertical-align: middle;\n",
       "    }\n",
       "\n",
       "    .dataframe tbody tr th {\n",
       "        vertical-align: top;\n",
       "    }\n",
       "\n",
       "    .dataframe thead th {\n",
       "        text-align: right;\n",
       "    }\n",
       "</style>\n",
       "<table border=\"1\" class=\"dataframe\">\n",
       "  <thead>\n",
       "    <tr style=\"text-align: right;\">\n",
       "      <th></th>\n",
       "      <th>f0</th>\n",
       "      <th>f1</th>\n",
       "      <th>f2</th>\n",
       "    </tr>\n",
       "  </thead>\n",
       "  <tbody>\n",
       "    <tr>\n",
       "      <th>27212</th>\n",
       "      <td>-0.526160</td>\n",
       "      <td>0.776329</td>\n",
       "      <td>-0.400793</td>\n",
       "    </tr>\n",
       "    <tr>\n",
       "      <th>7866</th>\n",
       "      <td>-0.889625</td>\n",
       "      <td>-0.404070</td>\n",
       "      <td>-1.222936</td>\n",
       "    </tr>\n",
       "    <tr>\n",
       "      <th>62041</th>\n",
       "      <td>-1.133984</td>\n",
       "      <td>0.208576</td>\n",
       "      <td>0.296765</td>\n",
       "    </tr>\n",
       "    <tr>\n",
       "      <th>70185</th>\n",
       "      <td>1.227045</td>\n",
       "      <td>1.570166</td>\n",
       "      <td>-0.764556</td>\n",
       "    </tr>\n",
       "    <tr>\n",
       "      <th>82230</th>\n",
       "      <td>-0.194289</td>\n",
       "      <td>0.878312</td>\n",
       "      <td>0.840821</td>\n",
       "    </tr>\n",
       "  </tbody>\n",
       "</table>\n",
       "</div>"
      ],
      "text/plain": [
       "             f0        f1        f2\n",
       "27212 -0.526160  0.776329 -0.400793\n",
       "7866  -0.889625 -0.404070 -1.222936\n",
       "62041 -1.133984  0.208576  0.296765\n",
       "70185  1.227045  1.570166 -0.764556\n",
       "82230 -0.194289  0.878312  0.840821"
      ]
     },
     "metadata": {},
     "output_type": "display_data"
    }
   ],
   "source": [
    "numeric = ['f0', 'f1', 'f2']\n",
    "\n",
    "scaler = StandardScaler()\n",
    "scaler.fit(features_train2[numeric])\n",
    "features_train2[numeric] = scaler.transform(features_train2[numeric])\n",
    "features_valid2[numeric] = scaler.transform(features_valid2[numeric])\n",
    "\n",
    "print(features_train2.shape)\n",
    "display (features_train2.head(5))"
   ]
  },
  {
   "cell_type": "markdown",
   "metadata": {},
   "source": [
    "**Запускаю модель линейной регрессии для региона df2**"
   ]
  },
  {
   "cell_type": "code",
   "execution_count": 20,
   "metadata": {},
   "outputs": [
    {
     "name": "stdout",
     "output_type": "stream",
     "text": [
      "RMSE модели линейной регрессии на валидационной выборке: 40.02970873393434\n"
     ]
    }
   ],
   "source": [
    "model = LinearRegression()\n",
    "model.fit(features_train2, target_train2)\n",
    "predictions_train2 = model.predict (features_train2)\n",
    "predictions_valid2 = model.predict(features_valid2)\n",
    "\n",
    "result2 = mean_squared_error(target_valid2, predictions_valid2)**0.5\n",
    "print(\"RMSE модели линейной регрессии на валидационной выборке:\", result2)"
   ]
  },
  {
   "cell_type": "markdown",
   "metadata": {},
   "source": [
    "**Считаю среднее абсолютное отколонение MAE**"
   ]
  },
  {
   "cell_type": "code",
   "execution_count": 21,
   "metadata": {},
   "outputs": [
    {
     "name": "stdout",
     "output_type": "stream",
     "text": [
      "MAE для региона df2 на обучающей выборке:  32.83941121639209\n",
      "MAE для региона df2 на валидационной выборке:  32.792652105481814\n"
     ]
    }
   ],
   "source": [
    "print(\"MAE для региона df2 на обучающей выборке: \", mean_absolute_error(target_train2, predictions_train2))\n",
    "print(\"MAE для региона df2 на валидационной выборке: \", mean_absolute_error(target_valid2, predictions_valid2))"
   ]
  },
  {
   "cell_type": "markdown",
   "metadata": {},
   "source": [
    "**Вычисляю значение MAE для медианы целевого признака**"
   ]
  },
  {
   "cell_type": "code",
   "execution_count": 22,
   "metadata": {},
   "outputs": [
    {
     "name": "stdout",
     "output_type": "stream",
     "text": [
      "Медиана MAE для региона df2 37.92103997436729\n"
     ]
    }
   ],
   "source": [
    "predictions_valid_median2 = pd.Series(target_train2.median(), index=target_valid2.index)\n",
    "print(\"Медиана MAE для региона df2\", mean_absolute_error(target_valid2, predictions_valid_median2))"
   ]
  },
  {
   "cell_type": "markdown",
   "metadata": {},
   "source": [
    "**Считаю средний запас предсказанного сырья на валидационной выборке**"
   ]
  },
  {
   "cell_type": "code",
   "execution_count": 23,
   "metadata": {},
   "outputs": [
    {
     "name": "stdout",
     "output_type": "stream",
     "text": [
      "94.96504596800489\n"
     ]
    }
   ],
   "source": [
    "print (predictions_valid2.mean())"
   ]
  },
  {
   "cell_type": "markdown",
   "metadata": {},
   "source": [
    "### Графики распределения предсказанного количества нефти (predictions_valid) в разных регионах"
   ]
  },
  {
   "cell_type": "code",
   "execution_count": 24,
   "metadata": {},
   "outputs": [
    {
     "data": {
      "text/plain": [
       "<AxesSubplot:>"
      ]
     },
     "execution_count": 24,
     "metadata": {},
     "output_type": "execute_result"
    },
    {
     "data": {
      "image/png": "[encoded data removed]",
      "text/plain": [
       "<Figure size 432x288 with 1 Axes>"
      ]
     },
     "metadata": {
      "needs_background": "light"
     },
     "output_type": "display_data"
    }
   ],
   "source": [
    "pd.Series(predictions_valid0).hist ()"
   ]
  },
  {
   "cell_type": "code",
   "execution_count": 25,
   "metadata": {},
   "outputs": [
    {
     "data": {
      "text/plain": [
       "<AxesSubplot:>"
      ]
     },
     "execution_count": 25,
     "metadata": {},
     "output_type": "execute_result"
    },
    {
     "data": {
      "image/png": "[encoded data removed]",
      "text/plain": [
       "<Figure size 432x288 with 1 Axes>"
      ]
     },
     "metadata": {
      "needs_background": "light"
     },
     "output_type": "display_data"
    }
   ],
   "source": [
    "pd.Series(predictions_valid1).hist ()"
   ]
  },
  {
   "cell_type": "code",
   "execution_count": 26,
   "metadata": {},
   "outputs": [
    {
     "data": {
      "text/plain": [
       "<AxesSubplot:>"
      ]
     },
     "execution_count": 26,
     "metadata": {},
     "output_type": "execute_result"
    },
    {
     "data": {
      "image/png": "[encoded data removed]",
      "text/plain": [
       "<Figure size 432x288 with 1 Axes>"
      ]
     },
     "metadata": {
      "needs_background": "light"
     },
     "output_type": "display_data"
    }
   ],
   "source": [
    "pd.Series(predictions_valid2).hist ()"
   ]
  },
  {
   "cell_type": "markdown",
   "metadata": {},
   "source": [
    "Если в df0 и df2 у нас идет нормальное распределение количества нефти по скважинам, то в df1 график получился какой-то странный."
   ]
  },
  {
   "cell_type": "markdown",
   "metadata": {},
   "source": [
    "## Подготовка к расчёту прибыли"
   ]
  },
  {
   "cell_type": "markdown",
   "metadata": {},
   "source": [
    "### Рассчет объема сырья, достаточного для безубыточной работы скважины"
   ]
  },
  {
   "cell_type": "code",
   "execution_count": 27,
   "metadata": {},
   "outputs": [
    {
     "name": "stdout",
     "output_type": "stream",
     "text": [
      "Цена разработки 1 скважины 50000000.0 рублей\n",
      "Количество нефти для безубыточной работы 1 скважины 111.11111111111111 тыс. баррелей\n",
      "Количество нефти в регионе для его безубыточной работы 22222.222222222223 тыс. баррелей\n"
     ]
    }
   ],
   "source": [
    "#цена разработки 1 скважины (10 млрд. руб (цена разработки всех скважин в регионе) делим \\\n",
    "#на 200 скважин (200 лучших точек, которые будут разрабатывать))\n",
    "\n",
    "development_1_well = 10**10 / 200\n",
    "print ('Цена разработки 1 скважины', development_1_well, 'рублей')\n",
    "\n",
    "#считаю, сколько должно быть нефти в скважине, чтобы она была безубыточной (цену разработки 1 скваж. делим на ст-ть 1 ед.сырья)\n",
    "break_even_oil = development_1_well / 450000\n",
    "print ('Количество нефти для безубыточной работы 1 скважины', break_even_oil, 'тыс. баррелей')\n",
    "\n",
    "#стоимость должно быть нефти в регионе, чтобы его разработка была безубыточной\n",
    "development_all_wells = 10**10 / 450000\n",
    "print ('Количество нефти в регионе для его безубыточной работы', development_all_wells, 'тыс. баррелей')"
   ]
  },
  {
   "cell_type": "markdown",
   "metadata": {},
   "source": [
    "Для безубыточной работы 1 скважины требуется 111,1 тыс. баррелей нефти.\\\n",
    "Среднее количество нефти в скважинах региона 0 составляет 92,6 тыс. баррелей нефти.\\\n",
    "Среднее количество нефти в скважинах региона 1 составляет 68,7 тыс. баррелей нефти.\\\n",
    "Среднее количество нефти в скважинах региона 2 составляет 94,96 тыс. баррелей нефти."
   ]
  },
  {
   "cell_type": "markdown",
   "metadata": {},
   "source": [
    "### Отбор 200 лучших скважин в каждом регионе и подсчет количества нефти"
   ]
  },
  {
   "cell_type": "code",
   "execution_count": 28,
   "metadata": {},
   "outputs": [
    {
     "name": "stdout",
     "output_type": "stream",
     "text": [
      "Количество нефти в двухсот лучших скважинах региона 0: 31102.330838811402\n"
     ]
    }
   ],
   "source": [
    "predictions_valid0_200 = pd.Series(predictions_valid0).sort_values(ascending=False)\n",
    "predictions_valid0_200_sum = predictions_valid0_200[0:200].sum()\n",
    "print ('Количество нефти в двухсот лучших скважинах региона 0:', predictions_valid0_200_sum)"
   ]
  },
  {
   "cell_type": "code",
   "execution_count": 29,
   "metadata": {},
   "outputs": [
    {
     "name": "stdout",
     "output_type": "stream",
     "text": [
      "Количество нефти в двухсот лучших скважинах региона 1: 27746.02678216343\n"
     ]
    }
   ],
   "source": [
    "predictions_valid1_200 = pd.Series(predictions_valid1).sort_values(ascending=False)\n",
    "predictions_valid1_200_sum = predictions_valid1_200[0:200].sum()\n",
    "print ('Количество нефти в двухсот лучших скважинах региона 1:', predictions_valid1_200_sum)"
   ]
  },
  {
   "cell_type": "code",
   "execution_count": 30,
   "metadata": {},
   "outputs": [
    {
     "name": "stdout",
     "output_type": "stream",
     "text": [
      "Количество нефти в двухсот лучших скважинах региона 2: 29603.89865831835\n"
     ]
    }
   ],
   "source": [
    "predictions_valid2_200 = pd.Series(predictions_valid2).sort_values(ascending=False)\n",
    "predictions_valid2_200_sum = predictions_valid2_200[0:200].sum()\n",
    "print ('Количество нефти в двухсот лучших скважинах региона 2:', predictions_valid2_200_sum)"
   ]
  },
  {
   "cell_type": "markdown",
   "metadata": {},
   "source": [
    "## Расчёт прибыли и рисков "
   ]
  },
  {
   "cell_type": "markdown",
   "metadata": {},
   "source": [
    "### Сброс индексов на валидационной выборке"
   ]
  },
  {
   "cell_type": "code",
   "execution_count": 31,
   "metadata": {},
   "outputs": [],
   "source": [
    "target_valid0 = pd.concat([pd.Series(target_valid0)], ignore_index=True)\n",
    "target_valid1 = pd.concat([pd.Series(target_valid1)], ignore_index=True)\n",
    "target_valid2 = pd.concat([pd.Series(target_valid2)], ignore_index=True)"
   ]
  },
  {
   "cell_type": "markdown",
   "metadata": {},
   "source": [
    "state = np.random.RandomState(12345)\n",
    "\n",
    "print(target_valid0)\n",
    "print(predictions_valid0)\n",
    "target_subsample = target_valid0.sample(frac=0.02, replace=True, random_state=state)\n",
    "print(target_subsample)\n",
    "print(target_subsample.index[0])\n",
    "predictions_valid0[target_subsample.index][0]"
   ]
  },
  {
   "cell_type": "markdown",
   "metadata": {},
   "source": [
    "### Функция для подсчета прибыли"
   ]
  },
  {
   "cell_type": "code",
   "execution_count": 32,
   "metadata": {},
   "outputs": [],
   "source": [
    "def profit (target, predictions, count):\n",
    "    predictions_sorted = pd.Series(predictions).sort_values(ascending=False)\n",
    "    selected_200 = predictions_sorted[:count]\n",
    "    selected_200_target = target.iloc[selected_200.index]\n",
    "    selected_sum = selected_200_target.sum()\n",
    "    profit = selected_sum*450000 - 10**10\n",
    "    return profit"
   ]
  },
  {
   "cell_type": "markdown",
   "metadata": {},
   "source": [
    "### Считаю предполагаемую прибыль для каждого региона"
   ]
  },
  {
   "cell_type": "code",
   "execution_count": 33,
   "metadata": {},
   "outputs": [
    {
     "name": "stdout",
     "output_type": "stream",
     "text": [
      "Прибыль региона 0 составляет: 3.3208260431398506 млрд. рублей\n"
     ]
    }
   ],
   "source": [
    "print ('Прибыль региона 0 составляет:', profit (target_valid0, predictions_valid0, 200)/10**9, 'млрд. рублей')"
   ]
  },
  {
   "cell_type": "code",
   "execution_count": 34,
   "metadata": {},
   "outputs": [
    {
     "name": "stdout",
     "output_type": "stream",
     "text": [
      "Прибыль региона 1 составляет: 2.4150866966815108 млрд. рублей\n"
     ]
    }
   ],
   "source": [
    "print ('Прибыль региона 1 составляет:', profit (target_valid1, predictions_valid1, 200)/10**9, 'млрд. рублей')"
   ]
  },
  {
   "cell_type": "code",
   "execution_count": 35,
   "metadata": {},
   "outputs": [
    {
     "name": "stdout",
     "output_type": "stream",
     "text": [
      "Прибыль региона 2 составляет: 2.7103499635998327 млрд. рублей\n"
     ]
    }
   ],
   "source": [
    "print ('Прибыль региона 2 составляет:', profit (target_valid2, predictions_valid2, 200)/10**9, 'млрд. рублей')"
   ]
  },
  {
   "cell_type": "markdown",
   "metadata": {},
   "source": [
    "### Применяю технику Bootstrap, чтобы найти распределение прибыли"
   ]
  },
  {
   "cell_type": "code",
   "execution_count": 36,
   "metadata": {},
   "outputs": [
    {
     "name": "stdout",
     "output_type": "stream",
     "text": [
      "Распределение прибыли в регионе 0:\n",
      "95% доверительный интервал: -0.11121554589049526  -  0.9097669415534225\n",
      "Средняя прибыль региона 0: 0.3961649848023711 млрд. рублей\n"
     ]
    }
   ],
   "source": [
    "state = np.random.RandomState(12345)\n",
    "    \n",
    "values = []\n",
    "for i in range(1000):\n",
    "    target_subsample = target_valid0.sample(frac=0.02, replace=True, random_state=state)\n",
    "    probs_subsample = predictions_valid0[target_subsample.index]\n",
    "    value = profit (target_subsample, probs_subsample, 200)\n",
    "    values.append(value)\n",
    "\n",
    "values_series = pd.Series(values)\n",
    "lower = values_series.quantile(0.025)\n",
    "upper = values_series.quantile(0.975)\n",
    "values_mean = values_series.mean()\n",
    "\n",
    "print ('Распределение прибыли в регионе 0:')\n",
    "print(\"95% доверительный интервал:\", lower/10**9, ' - ', upper/10**9)\n",
    "print ('Средняя прибыль региона 0:', values_mean/10**9, 'млрд. рублей')"
   ]
  },
  {
   "cell_type": "code",
   "execution_count": 37,
   "metadata": {},
   "outputs": [
    {
     "name": "stdout",
     "output_type": "stream",
     "text": [
      "Вероятность убытка в регионе 0 равна 6.9 %\n"
     ]
    }
   ],
   "source": [
    "values_loss = 0\n",
    "values_profit = 0\n",
    "for i in values:\n",
    "    if i < 0:\n",
    "        values_loss = values_loss + 1\n",
    "    else:\n",
    "        values_profit = values_profit + 1\n",
    "print ('Вероятность убытка в регионе 0 равна', values_loss*100/1000, '%')"
   ]
  },
  {
   "cell_type": "code",
   "execution_count": 38,
   "metadata": {},
   "outputs": [
    {
     "name": "stdout",
     "output_type": "stream",
     "text": [
      "Распределение прибыли в регионе 1:\n",
      "95% доверительный интервал: 0.03382050939898363  -  0.852289453866036\n",
      "Средняя прибыль региона 1: 0.4560451057866608 млрд. рублей\n"
     ]
    }
   ],
   "source": [
    "state = np.random.RandomState(12345)\n",
    "    \n",
    "values = []\n",
    "for i in range(1000):\n",
    "    target_subsample = target_valid1.sample(frac=0.02, replace=True, random_state=state)\n",
    "    probs_subsample = predictions_valid1[target_subsample.index]\n",
    "    value = profit (target_subsample, probs_subsample, 200)\n",
    "    values.append(value)\n",
    "\n",
    "values_series = pd.Series(values)\n",
    "lower = values_series.quantile(0.025)\n",
    "upper = values_series.quantile(0.975)\n",
    "values_mean = values_series.mean()\n",
    "\n",
    "print ('Распределение прибыли в регионе 1:')\n",
    "print(\"95% доверительный интервал:\", lower/10**9, ' - ', upper/10**9)\n",
    "print ('Средняя прибыль региона 1:', values_mean/10**9, 'млрд. рублей')"
   ]
  },
  {
   "cell_type": "code",
   "execution_count": 39,
   "metadata": {},
   "outputs": [
    {
     "name": "stdout",
     "output_type": "stream",
     "text": [
      "Вероятность убытка в регионе 1 равна 1.5 %\n"
     ]
    }
   ],
   "source": [
    "values_loss = 0\n",
    "values_profit = 0\n",
    "for i in values:\n",
    "    if i < 0:\n",
    "        values_loss = values_loss + 1\n",
    "    else:\n",
    "        values_profit = values_profit + 1\n",
    "print ('Вероятность убытка в регионе 1 равна', values_loss*100/1000, '%')"
   ]
  },
  {
   "cell_type": "code",
   "execution_count": 40,
   "metadata": {},
   "outputs": [
    {
     "name": "stdout",
     "output_type": "stream",
     "text": [
      "Распределение прибыли в регионе 2:\n",
      "95% доверительный интервал: -0.16335041339560105  -  0.9503595749237995\n",
      "Средняя прибыль региона 2: 0.4044038665683568 млрд. рублей\n"
     ]
    }
   ],
   "source": [
    "state = np.random.RandomState(12345)\n",
    "    \n",
    "values = []\n",
    "for i in range(1000):\n",
    "    target_subsample = target_valid2.sample(frac=0.02, replace=True, random_state=state)\n",
    "    probs_subsample = predictions_valid2[target_subsample.index]\n",
    "    value = profit (target_subsample, probs_subsample, 200)\n",
    "    values.append(value)\n",
    "\n",
    "values_series = pd.Series(values)\n",
    "lower = values_series.quantile(0.025)\n",
    "upper = values_series.quantile(0.975)\n",
    "values_mean = values_series.mean()\n",
    "\n",
    "print ('Распределение прибыли в регионе 2:')\n",
    "print(\"95% доверительный интервал:\", lower/10**9, ' - ', upper/10**9)\n",
    "print ('Средняя прибыль региона 2:', values_mean/10**9, 'млрд. рублей')"
   ]
  },
  {
   "cell_type": "code",
   "execution_count": 41,
   "metadata": {},
   "outputs": [
    {
     "name": "stdout",
     "output_type": "stream",
     "text": [
      "Вероятность убытка в регионе 2 равна 7.6 %\n"
     ]
    }
   ],
   "source": [
    "values_loss = 0\n",
    "values_profit = 0\n",
    "for i in values:\n",
    "    if i < 0:\n",
    "        values_loss = values_loss + 1\n",
    "    else:\n",
    "        values_profit = values_profit + 1\n",
    "print ('Вероятность убытка в регионе 2 равна', values_loss*100/1000, '%')"
   ]
  },
  {
   "cell_type": "markdown",
   "metadata": {},
   "source": [
    "## Вывод"
   ]
  },
  {
   "cell_type": "markdown",
   "metadata": {},
   "source": [
    "Добывающая компания «ГлавРосГосНефть» поставила задачу о том, где бурить новую скважину.\\\n",
    "Была предоставлена информация о трех предполагаемых регионах для бурения скважин.\\\n",
    "\\\n",
    "Я вычислила следующие основные параметры:\\\n",
    "Стоимость разработки 1 скважины составляет 5 млн. рублей\\\n",
    "Для безубыточной работы 1 скважины требуется 111,1 тыс. баррелей нефти.\\\n",
    "Среднее количество нефти в скважинах региона 0 составляет 92,6 тыс. баррелей нефти.\\\n",
    "Среднее количество нефти в скважинах региона 1 составляет 68,7 тыс. баррелей нефти.\\\n",
    "Среднее количество нефти в скважинах региона 2 составляет 94,96 тыс. баррелей нефти.\\\n",
    "\\\n",
    "Применила технику Bootstrap и нашла 95% доверительный интервал в каждом регионе.\\\n",
    "Наибольшую среднюю прибыль и наименьшую вероятность убытка показал регион 1 (вероятность убытков 1,5%).\\\n",
    "В то время, как регион 0 показал вероятность убытков 6,9%, а регион 2 - 7,6%.\\\n",
    "\\\n",
    "Распределение прибыли в регионе 1:\\\n",
    "95% доверительный интервал: 0.03382050939898363  -  0.852289453866036\\\n",
    "Средняя прибыль региона 1: 0.4560451057866608 млрд. рублей\\\n",
    "Поэтому, с точки зрения размера средней прибыли и наименьшей вероятности убытков, стоит выбрать регион 1 для разработки."
   ]
  }
 ],
 "metadata": {
  "ExecuteTimeLog": [
   {
    "duration": 344,
    "start_time": "2022-12-02T03:28:59.115Z"
   },
   {
    "duration": 606,
    "start_time": "2022-12-02T03:29:01.169Z"
   },
   {
    "duration": 94,
    "start_time": "2022-12-02T03:29:50.038Z"
   },
   {
    "duration": 44,
    "start_time": "2022-12-02T03:30:19.022Z"
   },
   {
    "duration": 586,
    "start_time": "2022-12-02T03:30:22.608Z"
   },
   {
    "duration": 619,
    "start_time": "2022-12-02T03:30:30.679Z"
   },
   {
    "duration": 144,
    "start_time": "2022-12-02T03:32:00.915Z"
   },
   {
    "duration": 136,
    "start_time": "2022-12-02T03:32:14.574Z"
   },
   {
    "duration": 136,
    "start_time": "2022-12-02T03:32:28.496Z"
   },
   {
    "duration": 11,
    "start_time": "2022-12-02T03:41:23.164Z"
   },
   {
    "duration": 25,
    "start_time": "2022-12-02T03:41:30.955Z"
   },
   {
    "duration": 180,
    "start_time": "2022-12-02T03:43:31.604Z"
   },
   {
    "duration": 192,
    "start_time": "2022-12-02T03:43:55.867Z"
   },
   {
    "duration": 15,
    "start_time": "2022-12-02T03:44:54.334Z"
   },
   {
    "duration": 800,
    "start_time": "2022-12-02T03:51:03.424Z"
   },
   {
    "duration": 48,
    "start_time": "2022-12-02T03:52:48.473Z"
   },
   {
    "duration": 60,
    "start_time": "2022-12-02T03:53:27.225Z"
   },
   {
    "duration": 13,
    "start_time": "2022-12-02T03:53:33.120Z"
   },
   {
    "duration": 16,
    "start_time": "2022-12-02T03:53:52.475Z"
   },
   {
    "duration": 27,
    "start_time": "2022-12-02T03:55:03.906Z"
   },
   {
    "duration": 11,
    "start_time": "2022-12-02T03:55:10.230Z"
   },
   {
    "duration": 9,
    "start_time": "2022-12-02T03:56:47.846Z"
   },
   {
    "duration": 16,
    "start_time": "2022-12-02T04:03:10.895Z"
   },
   {
    "duration": 116,
    "start_time": "2022-12-02T04:03:19.157Z"
   },
   {
    "duration": 17,
    "start_time": "2022-12-02T04:03:20.976Z"
   },
   {
    "duration": 14,
    "start_time": "2022-12-02T04:03:40.059Z"
   },
   {
    "duration": 58,
    "start_time": "2022-12-02T04:05:53.775Z"
   },
   {
    "duration": 44,
    "start_time": "2022-12-02T04:09:48.603Z"
   },
   {
    "duration": 151,
    "start_time": "2022-12-02T04:12:01.450Z"
   },
   {
    "duration": 21,
    "start_time": "2022-12-02T04:25:29.274Z"
   },
   {
    "duration": 93,
    "start_time": "2022-12-02T04:27:49.807Z"
   },
   {
    "duration": 4,
    "start_time": "2022-12-02T05:03:39.640Z"
   },
   {
    "duration": 107,
    "start_time": "2022-12-02T05:03:44.581Z"
   },
   {
    "duration": 4,
    "start_time": "2022-12-02T05:07:07.064Z"
   },
   {
    "duration": 10,
    "start_time": "2022-12-02T05:07:37.608Z"
   },
   {
    "duration": 6,
    "start_time": "2022-12-02T05:07:52.894Z"
   },
   {
    "duration": 61,
    "start_time": "2022-12-02T05:09:37.221Z"
   },
   {
    "duration": 10,
    "start_time": "2022-12-02T05:24:56.453Z"
   },
   {
    "duration": 3,
    "start_time": "2022-12-02T05:25:32.124Z"
   },
   {
    "duration": 8,
    "start_time": "2022-12-02T05:25:38.609Z"
   },
   {
    "duration": 69,
    "start_time": "2022-12-02T05:26:17.717Z"
   },
   {
    "duration": 7,
    "start_time": "2022-12-02T05:26:22.078Z"
   },
   {
    "duration": 9,
    "start_time": "2022-12-02T05:31:09.929Z"
   },
   {
    "duration": 12,
    "start_time": "2022-12-02T05:40:13.266Z"
   },
   {
    "duration": 4,
    "start_time": "2022-12-02T05:41:00.377Z"
   },
   {
    "duration": 4,
    "start_time": "2022-12-02T05:47:19.961Z"
   },
   {
    "duration": 4,
    "start_time": "2022-12-02T05:47:27.780Z"
   },
   {
    "duration": 8,
    "start_time": "2022-12-02T06:07:29.940Z"
   },
   {
    "duration": 14,
    "start_time": "2022-12-02T06:07:50.297Z"
   },
   {
    "duration": 9,
    "start_time": "2022-12-02T06:08:00.152Z"
   },
   {
    "duration": 9,
    "start_time": "2022-12-02T06:08:13.640Z"
   },
   {
    "duration": 17,
    "start_time": "2022-12-02T06:08:29.570Z"
   },
   {
    "duration": 83,
    "start_time": "2022-12-02T06:11:50.397Z"
   },
   {
    "duration": 45,
    "start_time": "2022-12-02T09:34:58.092Z"
   },
   {
    "duration": 8,
    "start_time": "2022-12-02T09:35:28.700Z"
   },
   {
    "duration": 9,
    "start_time": "2022-12-02T09:35:47.636Z"
   },
   {
    "duration": 3,
    "start_time": "2022-12-02T09:41:27.015Z"
   },
   {
    "duration": 3,
    "start_time": "2022-12-02T09:41:57.970Z"
   },
   {
    "duration": 3,
    "start_time": "2022-12-02T09:42:11.857Z"
   },
   {
    "duration": 8,
    "start_time": "2022-12-02T09:46:47.742Z"
   },
   {
    "duration": 7,
    "start_time": "2022-12-02T09:52:41.839Z"
   },
   {
    "duration": 24,
    "start_time": "2022-12-02T09:55:12.921Z"
   },
   {
    "duration": 7,
    "start_time": "2022-12-02T09:56:23.586Z"
   },
   {
    "duration": 9,
    "start_time": "2022-12-02T09:56:50.573Z"
   },
   {
    "duration": 6,
    "start_time": "2022-12-02T10:03:37.354Z"
   },
   {
    "duration": 8,
    "start_time": "2022-12-02T10:04:17.603Z"
   },
   {
    "duration": 8,
    "start_time": "2022-12-02T10:05:02.791Z"
   },
   {
    "duration": 7,
    "start_time": "2022-12-02T10:05:18.054Z"
   },
   {
    "duration": 6,
    "start_time": "2022-12-02T10:39:43.864Z"
   },
   {
    "duration": 1092,
    "start_time": "2022-12-02T10:40:01.249Z"
   },
   {
    "duration": 235,
    "start_time": "2022-12-02T10:40:02.343Z"
   },
   {
    "duration": 209,
    "start_time": "2022-12-02T10:40:02.579Z"
   },
   {
    "duration": 221,
    "start_time": "2022-12-02T10:40:02.790Z"
   },
   {
    "duration": 62,
    "start_time": "2022-12-02T10:40:05.676Z"
   },
   {
    "duration": 3,
    "start_time": "2022-12-02T10:40:51.994Z"
   },
   {
    "duration": 157,
    "start_time": "2022-12-02T10:40:51.999Z"
   },
   {
    "duration": 120,
    "start_time": "2022-12-02T10:40:52.158Z"
   },
   {
    "duration": 0,
    "start_time": "2022-12-02T10:40:52.280Z"
   },
   {
    "duration": 23,
    "start_time": "2022-12-02T10:40:57.193Z"
   },
   {
    "duration": 26,
    "start_time": "2022-12-02T10:42:57.289Z"
   },
   {
    "duration": 26,
    "start_time": "2022-12-02T10:43:33.935Z"
   },
   {
    "duration": 24,
    "start_time": "2022-12-02T10:47:39.751Z"
   },
   {
    "duration": 28,
    "start_time": "2022-12-02T10:48:35.359Z"
   },
   {
    "duration": 25,
    "start_time": "2022-12-02T10:49:22.341Z"
   },
   {
    "duration": 21,
    "start_time": "2022-12-02T10:50:08.627Z"
   },
   {
    "duration": 18,
    "start_time": "2022-12-02T10:51:55.084Z"
   },
   {
    "duration": 93,
    "start_time": "2022-12-02T10:52:05.730Z"
   },
   {
    "duration": 93,
    "start_time": "2022-12-02T10:53:02.830Z"
   },
   {
    "duration": 5,
    "start_time": "2022-12-02T10:54:14.372Z"
   },
   {
    "duration": 6,
    "start_time": "2022-12-02T10:54:53.884Z"
   },
   {
    "duration": 7,
    "start_time": "2022-12-02T10:55:04.740Z"
   },
   {
    "duration": 23,
    "start_time": "2022-12-02T11:12:12.596Z"
   },
   {
    "duration": 20,
    "start_time": "2022-12-02T11:12:35.911Z"
   },
   {
    "duration": 6,
    "start_time": "2022-12-02T11:13:15.000Z"
   },
   {
    "duration": 6,
    "start_time": "2022-12-02T11:14:10.505Z"
   },
   {
    "duration": 6,
    "start_time": "2022-12-02T11:16:02.319Z"
   },
   {
    "duration": 29,
    "start_time": "2022-12-02T11:16:45.219Z"
   },
   {
    "duration": 147,
    "start_time": "2022-12-02T11:21:43.323Z"
   },
   {
    "duration": 53,
    "start_time": "2022-12-02T11:22:37.802Z"
   },
   {
    "duration": 49,
    "start_time": "2022-12-04T02:56:43.777Z"
   },
   {
    "duration": 991,
    "start_time": "2022-12-04T02:56:49.554Z"
   },
   {
    "duration": 243,
    "start_time": "2022-12-04T02:56:50.547Z"
   },
   {
    "duration": 220,
    "start_time": "2022-12-04T02:56:50.791Z"
   },
   {
    "duration": 226,
    "start_time": "2022-12-04T02:56:51.013Z"
   },
   {
    "duration": 47,
    "start_time": "2022-12-04T02:56:55.401Z"
   },
   {
    "duration": 18,
    "start_time": "2022-12-04T02:57:11.252Z"
   },
   {
    "duration": 104,
    "start_time": "2022-12-04T02:57:27.688Z"
   },
   {
    "duration": 23,
    "start_time": "2022-12-04T02:57:42.912Z"
   },
   {
    "duration": 30,
    "start_time": "2022-12-04T02:57:49.483Z"
   },
   {
    "duration": 6,
    "start_time": "2022-12-04T02:57:53.682Z"
   },
   {
    "duration": 7,
    "start_time": "2022-12-04T02:57:56.806Z"
   },
   {
    "duration": 3,
    "start_time": "2022-12-04T02:59:23.813Z"
   },
   {
    "duration": 20,
    "start_time": "2022-12-04T03:01:22.339Z"
   },
   {
    "duration": 21,
    "start_time": "2022-12-04T03:02:16.555Z"
   },
   {
    "duration": 22,
    "start_time": "2022-12-04T03:02:27.679Z"
   },
   {
    "duration": 22,
    "start_time": "2022-12-04T03:03:39.287Z"
   },
   {
    "duration": 21,
    "start_time": "2022-12-04T03:03:41.697Z"
   },
   {
    "duration": 20,
    "start_time": "2022-12-04T03:04:35.177Z"
   },
   {
    "duration": 20,
    "start_time": "2022-12-04T03:04:41.667Z"
   },
   {
    "duration": 5,
    "start_time": "2022-12-04T03:05:52.187Z"
   },
   {
    "duration": 6,
    "start_time": "2022-12-04T03:07:18.896Z"
   },
   {
    "duration": 4,
    "start_time": "2022-12-04T03:07:57.849Z"
   },
   {
    "duration": 3,
    "start_time": "2022-12-04T03:09:30.641Z"
   },
   {
    "duration": 20,
    "start_time": "2022-12-04T03:10:41.396Z"
   },
   {
    "duration": 24,
    "start_time": "2022-12-04T03:11:39.769Z"
   },
   {
    "duration": 32,
    "start_time": "2022-12-04T03:12:43.288Z"
   },
   {
    "duration": 25,
    "start_time": "2022-12-04T03:12:49.460Z"
   },
   {
    "duration": 6,
    "start_time": "2022-12-04T03:13:40.471Z"
   },
   {
    "duration": 7,
    "start_time": "2022-12-04T03:14:30.625Z"
   },
   {
    "duration": 3,
    "start_time": "2022-12-04T03:15:05.298Z"
   },
   {
    "duration": 3,
    "start_time": "2022-12-04T03:15:45.366Z"
   },
   {
    "duration": 167,
    "start_time": "2022-12-04T03:15:45.371Z"
   },
   {
    "duration": 139,
    "start_time": "2022-12-04T03:15:45.540Z"
   },
   {
    "duration": 144,
    "start_time": "2022-12-04T03:15:45.681Z"
   },
   {
    "duration": 25,
    "start_time": "2022-12-04T03:15:45.826Z"
   },
   {
    "duration": 25,
    "start_time": "2022-12-04T03:15:45.852Z"
   },
   {
    "duration": 48,
    "start_time": "2022-12-04T03:15:45.879Z"
   },
   {
    "duration": 7,
    "start_time": "2022-12-04T03:15:46.017Z"
   },
   {
    "duration": 10,
    "start_time": "2022-12-04T03:15:46.115Z"
   },
   {
    "duration": 4,
    "start_time": "2022-12-04T03:15:46.127Z"
   },
   {
    "duration": 25,
    "start_time": "2022-12-04T03:15:46.133Z"
   },
   {
    "duration": 21,
    "start_time": "2022-12-04T03:15:46.160Z"
   },
   {
    "duration": 42,
    "start_time": "2022-12-04T03:15:46.183Z"
   },
   {
    "duration": 6,
    "start_time": "2022-12-04T03:15:46.228Z"
   },
   {
    "duration": 102,
    "start_time": "2022-12-04T03:15:46.318Z"
   },
   {
    "duration": 6,
    "start_time": "2022-12-04T03:15:46.422Z"
   },
   {
    "duration": 25,
    "start_time": "2022-12-04T03:15:46.430Z"
   },
   {
    "duration": 20,
    "start_time": "2022-12-04T03:15:46.457Z"
   },
   {
    "duration": 43,
    "start_time": "2022-12-04T03:15:46.479Z"
   },
   {
    "duration": 97,
    "start_time": "2022-12-04T03:15:46.524Z"
   },
   {
    "duration": 102,
    "start_time": "2022-12-04T03:15:46.623Z"
   },
   {
    "duration": 3,
    "start_time": "2022-12-04T03:15:49.923Z"
   },
   {
    "duration": 3,
    "start_time": "2022-12-04T03:17:02.553Z"
   },
   {
    "duration": 2,
    "start_time": "2022-12-04T03:17:03.929Z"
   },
   {
    "duration": 3,
    "start_time": "2022-12-04T03:27:01.507Z"
   },
   {
    "duration": 3,
    "start_time": "2022-12-04T03:30:56.388Z"
   },
   {
    "duration": 4,
    "start_time": "2022-12-04T03:36:50.106Z"
   },
   {
    "duration": 4,
    "start_time": "2022-12-04T03:37:25.414Z"
   },
   {
    "duration": 4,
    "start_time": "2022-12-04T03:37:46.999Z"
   },
   {
    "duration": 3,
    "start_time": "2022-12-04T03:38:11.263Z"
   },
   {
    "duration": 5,
    "start_time": "2022-12-04T03:55:18.208Z"
   },
   {
    "duration": 995,
    "start_time": "2022-12-05T07:14:52.904Z"
   },
   {
    "duration": 251,
    "start_time": "2022-12-05T07:14:53.900Z"
   },
   {
    "duration": 210,
    "start_time": "2022-12-05T07:14:54.152Z"
   },
   {
    "duration": 240,
    "start_time": "2022-12-05T07:14:54.364Z"
   },
   {
    "duration": 17,
    "start_time": "2022-12-05T07:14:54.606Z"
   },
   {
    "duration": 23,
    "start_time": "2022-12-05T07:14:54.625Z"
   },
   {
    "duration": 36,
    "start_time": "2022-12-05T07:14:54.649Z"
   },
   {
    "duration": 95,
    "start_time": "2022-12-05T07:14:54.687Z"
   },
   {
    "duration": 114,
    "start_time": "2022-12-05T07:14:54.785Z"
   },
   {
    "duration": 12,
    "start_time": "2022-12-05T07:14:54.901Z"
   },
   {
    "duration": 41,
    "start_time": "2022-12-05T07:14:54.915Z"
   },
   {
    "duration": 29,
    "start_time": "2022-12-05T07:14:54.958Z"
   },
   {
    "duration": 91,
    "start_time": "2022-12-05T07:14:54.989Z"
   },
   {
    "duration": 93,
    "start_time": "2022-12-05T07:14:55.085Z"
   },
   {
    "duration": 13,
    "start_time": "2022-12-05T07:14:55.179Z"
   },
   {
    "duration": 16,
    "start_time": "2022-12-05T07:14:55.194Z"
   },
   {
    "duration": 29,
    "start_time": "2022-12-05T07:14:55.212Z"
   },
   {
    "duration": 27,
    "start_time": "2022-12-05T07:14:55.243Z"
   },
   {
    "duration": 37,
    "start_time": "2022-12-05T07:14:55.275Z"
   },
   {
    "duration": 7,
    "start_time": "2022-12-05T07:14:55.377Z"
   },
   {
    "duration": 102,
    "start_time": "2022-12-05T07:14:55.386Z"
   },
   {
    "duration": 8,
    "start_time": "2022-12-05T07:14:55.490Z"
   },
   {
    "duration": 106,
    "start_time": "2022-12-05T07:14:55.500Z"
   },
   {
    "duration": 0,
    "start_time": "2022-12-05T07:14:55.607Z"
   },
   {
    "duration": 374,
    "start_time": "2022-12-05T07:17:11.343Z"
   },
   {
    "duration": 19,
    "start_time": "2022-12-05T07:17:17.641Z"
   },
   {
    "duration": 3,
    "start_time": "2022-12-05T07:17:50.916Z"
   },
   {
    "duration": 8,
    "start_time": "2022-12-05T07:18:58.379Z"
   },
   {
    "duration": 11,
    "start_time": "2022-12-05T07:19:05.322Z"
   },
   {
    "duration": 48,
    "start_time": "2022-12-05T07:22:20.846Z"
   },
   {
    "duration": 8,
    "start_time": "2022-12-05T07:22:26.085Z"
   },
   {
    "duration": 8,
    "start_time": "2022-12-05T07:22:31.707Z"
   },
   {
    "duration": 2,
    "start_time": "2022-12-05T07:22:56.534Z"
   },
   {
    "duration": 12,
    "start_time": "2022-12-05T07:25:27.112Z"
   },
   {
    "duration": 3,
    "start_time": "2022-12-05T07:30:00.522Z"
   },
   {
    "duration": 10,
    "start_time": "2022-12-05T07:31:34.110Z"
   },
   {
    "duration": 22,
    "start_time": "2022-12-05T07:31:41.731Z"
   },
   {
    "duration": 8,
    "start_time": "2022-12-05T07:31:56.342Z"
   },
   {
    "duration": 10,
    "start_time": "2022-12-05T07:34:59.505Z"
   },
   {
    "duration": 3,
    "start_time": "2022-12-05T07:35:16.894Z"
   },
   {
    "duration": 9,
    "start_time": "2022-12-05T07:35:23.227Z"
   },
   {
    "duration": 11,
    "start_time": "2022-12-05T07:37:57.446Z"
   },
   {
    "duration": 4,
    "start_time": "2022-12-05T07:42:46.892Z"
   },
   {
    "duration": 10,
    "start_time": "2022-12-05T07:43:06.211Z"
   },
   {
    "duration": 8,
    "start_time": "2022-12-05T07:43:34.215Z"
   },
   {
    "duration": 3,
    "start_time": "2022-12-05T07:52:02.831Z"
   },
   {
    "duration": 4,
    "start_time": "2022-12-05T07:52:12.547Z"
   },
   {
    "duration": 147,
    "start_time": "2022-12-05T07:52:12.572Z"
   },
   {
    "duration": 137,
    "start_time": "2022-12-05T07:52:12.721Z"
   },
   {
    "duration": 147,
    "start_time": "2022-12-05T07:52:12.860Z"
   },
   {
    "duration": 22,
    "start_time": "2022-12-05T07:52:13.009Z"
   },
   {
    "duration": 20,
    "start_time": "2022-12-05T07:52:13.033Z"
   },
   {
    "duration": 224,
    "start_time": "2022-12-05T07:52:13.055Z"
   },
   {
    "duration": 93,
    "start_time": "2022-12-05T07:52:13.282Z"
   },
   {
    "duration": 9,
    "start_time": "2022-12-05T07:52:13.377Z"
   },
   {
    "duration": 10,
    "start_time": "2022-12-05T07:52:13.387Z"
   },
   {
    "duration": 91,
    "start_time": "2022-12-05T07:52:13.399Z"
   },
   {
    "duration": 19,
    "start_time": "2022-12-05T07:52:13.492Z"
   },
   {
    "duration": 64,
    "start_time": "2022-12-05T07:52:13.513Z"
   },
   {
    "duration": 7,
    "start_time": "2022-12-05T07:52:13.579Z"
   },
   {
    "duration": 9,
    "start_time": "2022-12-05T07:52:13.676Z"
   },
   {
    "duration": 10,
    "start_time": "2022-12-05T07:52:13.686Z"
   },
   {
    "duration": 24,
    "start_time": "2022-12-05T07:52:13.698Z"
   },
   {
    "duration": 23,
    "start_time": "2022-12-05T07:52:13.724Z"
   },
   {
    "duration": 40,
    "start_time": "2022-12-05T07:52:13.748Z"
   },
   {
    "duration": 101,
    "start_time": "2022-12-05T07:52:13.790Z"
   },
   {
    "duration": 14,
    "start_time": "2022-12-05T07:52:13.977Z"
   },
   {
    "duration": 5,
    "start_time": "2022-12-05T07:52:13.993Z"
   },
   {
    "duration": 11,
    "start_time": "2022-12-05T07:52:16.311Z"
   },
   {
    "duration": 8,
    "start_time": "2022-12-05T07:54:11.108Z"
   },
   {
    "duration": 9,
    "start_time": "2022-12-05T07:54:21.822Z"
   },
   {
    "duration": 10,
    "start_time": "2022-12-05T07:54:43.313Z"
   },
   {
    "duration": 5,
    "start_time": "2022-12-05T07:57:35.142Z"
   },
   {
    "duration": 7,
    "start_time": "2022-12-05T07:58:00.639Z"
   },
   {
    "duration": 7,
    "start_time": "2022-12-05T07:58:12.429Z"
   },
   {
    "duration": 11,
    "start_time": "2022-12-05T07:59:20.197Z"
   },
   {
    "duration": 11,
    "start_time": "2022-12-05T07:59:58.929Z"
   },
   {
    "duration": 13,
    "start_time": "2022-12-05T08:00:23.945Z"
   },
   {
    "duration": 11,
    "start_time": "2022-12-05T08:01:03.802Z"
   },
   {
    "duration": 155,
    "start_time": "2022-12-05T08:01:32.536Z"
   },
   {
    "duration": 168,
    "start_time": "2022-12-05T08:01:59.209Z"
   },
   {
    "duration": 308,
    "start_time": "2022-12-05T08:06:35.522Z"
   },
   {
    "duration": 245,
    "start_time": "2022-12-05T08:07:12.390Z"
   },
   {
    "duration": 10,
    "start_time": "2022-12-05T08:07:41.481Z"
   },
   {
    "duration": 140,
    "start_time": "2022-12-05T08:07:55.521Z"
   },
   {
    "duration": 247,
    "start_time": "2022-12-05T08:08:34.422Z"
   },
   {
    "duration": 166,
    "start_time": "2022-12-05T08:09:10.069Z"
   },
   {
    "duration": 196,
    "start_time": "2022-12-05T08:09:22.157Z"
   },
   {
    "duration": 5,
    "start_time": "2022-12-05T08:13:39.140Z"
   },
   {
    "duration": 24,
    "start_time": "2022-12-05T08:14:57.893Z"
   },
   {
    "duration": 176,
    "start_time": "2022-12-05T08:15:08.779Z"
   },
   {
    "duration": 17,
    "start_time": "2022-12-05T08:44:46.531Z"
   },
   {
    "duration": 7,
    "start_time": "2022-12-05T08:45:24.201Z"
   },
   {
    "duration": 6,
    "start_time": "2022-12-05T08:47:42.090Z"
   },
   {
    "duration": 17,
    "start_time": "2022-12-05T08:48:17.867Z"
   },
   {
    "duration": 10,
    "start_time": "2022-12-05T08:48:32.317Z"
   },
   {
    "duration": 13,
    "start_time": "2022-12-05T09:02:04.807Z"
   },
   {
    "duration": 15,
    "start_time": "2022-12-05T09:03:13.585Z"
   },
   {
    "duration": 13,
    "start_time": "2022-12-05T09:05:02.060Z"
   },
   {
    "duration": 22,
    "start_time": "2022-12-05T09:06:24.329Z"
   },
   {
    "duration": 30,
    "start_time": "2022-12-05T09:06:33.278Z"
   },
   {
    "duration": 12,
    "start_time": "2022-12-05T09:07:34.005Z"
   },
   {
    "duration": 22,
    "start_time": "2022-12-05T09:07:55.615Z"
   },
   {
    "duration": 21,
    "start_time": "2022-12-05T09:08:05.440Z"
   },
   {
    "duration": 17,
    "start_time": "2022-12-05T09:08:51.837Z"
   },
   {
    "duration": 13,
    "start_time": "2022-12-05T09:11:24.460Z"
   },
   {
    "duration": 16,
    "start_time": "2022-12-05T09:11:45.568Z"
   },
   {
    "duration": 11,
    "start_time": "2022-12-05T09:12:29.578Z"
   },
   {
    "duration": 11,
    "start_time": "2022-12-05T09:13:42.968Z"
   },
   {
    "duration": 18,
    "start_time": "2022-12-05T09:14:11.516Z"
   },
   {
    "duration": 11,
    "start_time": "2022-12-05T09:16:19.619Z"
   },
   {
    "duration": 13,
    "start_time": "2022-12-05T09:16:21.548Z"
   },
   {
    "duration": 17,
    "start_time": "2022-12-05T09:25:26.086Z"
   },
   {
    "duration": 14,
    "start_time": "2022-12-05T09:25:40.390Z"
   },
   {
    "duration": 3,
    "start_time": "2022-12-05T09:27:58.430Z"
   },
   {
    "duration": 4,
    "start_time": "2022-12-05T09:29:41.575Z"
   },
   {
    "duration": 3,
    "start_time": "2022-12-05T09:30:12.981Z"
   },
   {
    "duration": 4,
    "start_time": "2022-12-05T09:30:14.837Z"
   },
   {
    "duration": 3,
    "start_time": "2022-12-05T09:34:45.750Z"
   },
   {
    "duration": 11,
    "start_time": "2022-12-05T09:50:09.776Z"
   },
   {
    "duration": 12,
    "start_time": "2022-12-05T09:50:11.644Z"
   },
   {
    "duration": 12,
    "start_time": "2022-12-05T09:50:19.006Z"
   },
   {
    "duration": 3,
    "start_time": "2022-12-05T10:04:48.301Z"
   },
   {
    "duration": 3,
    "start_time": "2022-12-05T10:06:33.282Z"
   },
   {
    "duration": 17,
    "start_time": "2022-12-05T10:06:35.293Z"
   },
   {
    "duration": 3,
    "start_time": "2022-12-05T10:07:03.953Z"
   },
   {
    "duration": 12,
    "start_time": "2022-12-05T10:07:05.671Z"
   },
   {
    "duration": 3,
    "start_time": "2022-12-05T10:08:38.902Z"
   },
   {
    "duration": 9,
    "start_time": "2022-12-05T10:08:41.075Z"
   },
   {
    "duration": 13,
    "start_time": "2022-12-05T10:08:46.793Z"
   },
   {
    "duration": 3,
    "start_time": "2022-12-05T10:09:04.162Z"
   },
   {
    "duration": 15,
    "start_time": "2022-12-05T10:09:05.989Z"
   },
   {
    "duration": 4,
    "start_time": "2022-12-05T10:09:18.968Z"
   },
   {
    "duration": 13,
    "start_time": "2022-12-05T10:09:23.410Z"
   },
   {
    "duration": 3,
    "start_time": "2022-12-05T10:09:35.057Z"
   },
   {
    "duration": 13,
    "start_time": "2022-12-05T10:09:36.576Z"
   },
   {
    "duration": 3,
    "start_time": "2022-12-05T10:11:12.084Z"
   },
   {
    "duration": 13,
    "start_time": "2022-12-05T10:11:14.211Z"
   },
   {
    "duration": 4,
    "start_time": "2022-12-05T10:12:51.561Z"
   },
   {
    "duration": 13,
    "start_time": "2022-12-05T10:12:53.611Z"
   },
   {
    "duration": 3,
    "start_time": "2022-12-05T10:14:33.752Z"
   },
   {
    "duration": 14,
    "start_time": "2022-12-05T10:14:46.530Z"
   },
   {
    "duration": 3,
    "start_time": "2022-12-05T10:16:31.682Z"
   },
   {
    "duration": 18,
    "start_time": "2022-12-05T10:16:33.939Z"
   },
   {
    "duration": 5,
    "start_time": "2022-12-05T10:19:59.528Z"
   },
   {
    "duration": 896,
    "start_time": "2022-12-05T10:20:09.255Z"
   },
   {
    "duration": 3,
    "start_time": "2022-12-05T10:22:55.575Z"
   },
   {
    "duration": 3,
    "start_time": "2022-12-05T10:23:19.283Z"
   },
   {
    "duration": 12,
    "start_time": "2022-12-05T10:23:21.202Z"
   },
   {
    "duration": 3,
    "start_time": "2022-12-05T10:38:05.763Z"
   },
   {
    "duration": 12,
    "start_time": "2022-12-05T10:38:09.913Z"
   },
   {
    "duration": 4,
    "start_time": "2022-12-05T10:43:16.763Z"
   },
   {
    "duration": 12,
    "start_time": "2022-12-05T10:43:18.871Z"
   },
   {
    "duration": 14,
    "start_time": "2022-12-05T10:55:17.806Z"
   },
   {
    "duration": 164,
    "start_time": "2022-12-05T10:55:34.399Z"
   },
   {
    "duration": 185,
    "start_time": "2022-12-05T10:55:43.009Z"
   },
   {
    "duration": 185,
    "start_time": "2022-12-05T10:55:47.342Z"
   },
   {
    "duration": 3,
    "start_time": "2022-12-05T10:56:24.463Z"
   },
   {
    "duration": 33,
    "start_time": "2022-12-05T10:56:26.592Z"
   },
   {
    "duration": 3,
    "start_time": "2022-12-05T10:57:10.054Z"
   },
   {
    "duration": 30,
    "start_time": "2022-12-05T10:57:13.959Z"
   },
   {
    "duration": 3,
    "start_time": "2022-12-05T12:36:50.791Z"
   },
   {
    "duration": 31,
    "start_time": "2022-12-05T12:36:52.683Z"
   },
   {
    "duration": 33,
    "start_time": "2022-12-05T12:38:40.372Z"
   },
   {
    "duration": 30,
    "start_time": "2022-12-05T12:38:45.406Z"
   },
   {
    "duration": 4,
    "start_time": "2022-12-05T12:38:49.738Z"
   },
   {
    "duration": 169,
    "start_time": "2022-12-05T12:38:49.744Z"
   },
   {
    "duration": 153,
    "start_time": "2022-12-05T12:38:49.915Z"
   },
   {
    "duration": 141,
    "start_time": "2022-12-05T12:38:50.070Z"
   },
   {
    "duration": 19,
    "start_time": "2022-12-05T12:38:50.213Z"
   },
   {
    "duration": 31,
    "start_time": "2022-12-05T12:38:50.234Z"
   },
   {
    "duration": 111,
    "start_time": "2022-12-05T12:38:50.267Z"
   },
   {
    "duration": 106,
    "start_time": "2022-12-05T12:38:50.379Z"
   },
   {
    "duration": 23,
    "start_time": "2022-12-05T12:38:50.487Z"
   },
   {
    "duration": 10,
    "start_time": "2022-12-05T12:38:50.512Z"
   },
   {
    "duration": 36,
    "start_time": "2022-12-05T12:38:50.525Z"
   },
   {
    "duration": 22,
    "start_time": "2022-12-05T12:38:50.563Z"
   },
   {
    "duration": 195,
    "start_time": "2022-12-05T12:38:50.586Z"
   },
   {
    "duration": 94,
    "start_time": "2022-12-05T12:38:50.783Z"
   },
   {
    "duration": 15,
    "start_time": "2022-12-05T12:38:50.879Z"
   },
   {
    "duration": 7,
    "start_time": "2022-12-05T12:38:50.896Z"
   },
   {
    "duration": 30,
    "start_time": "2022-12-05T12:38:50.904Z"
   },
   {
    "duration": 25,
    "start_time": "2022-12-05T12:38:50.936Z"
   },
   {
    "duration": 116,
    "start_time": "2022-12-05T12:38:50.962Z"
   },
   {
    "duration": 8,
    "start_time": "2022-12-05T12:38:51.080Z"
   },
   {
    "duration": 6,
    "start_time": "2022-12-05T12:38:51.177Z"
   },
   {
    "duration": 39,
    "start_time": "2022-12-05T12:38:51.184Z"
   },
   {
    "duration": 18,
    "start_time": "2022-12-05T12:38:51.225Z"
   },
   {
    "duration": 186,
    "start_time": "2022-12-05T12:38:51.245Z"
   },
   {
    "duration": 182,
    "start_time": "2022-12-05T12:38:51.432Z"
   },
   {
    "duration": 168,
    "start_time": "2022-12-05T12:38:51.615Z"
   },
   {
    "duration": 6,
    "start_time": "2022-12-05T12:38:51.785Z"
   },
   {
    "duration": 12,
    "start_time": "2022-12-05T12:38:51.792Z"
   },
   {
    "duration": 0,
    "start_time": "2022-12-05T12:38:51.806Z"
   },
   {
    "duration": 0,
    "start_time": "2022-12-05T12:38:51.807Z"
   },
   {
    "duration": 0,
    "start_time": "2022-12-05T12:38:51.808Z"
   },
   {
    "duration": 0,
    "start_time": "2022-12-05T12:38:51.810Z"
   },
   {
    "duration": 787,
    "start_time": "2022-12-05T12:39:18.672Z"
   },
   {
    "duration": 11,
    "start_time": "2022-12-05T12:39:30.794Z"
   },
   {
    "duration": 16,
    "start_time": "2022-12-05T12:39:42.206Z"
   },
   {
    "duration": 15,
    "start_time": "2022-12-05T12:39:44.315Z"
   },
   {
    "duration": 4,
    "start_time": "2022-12-05T12:39:49.966Z"
   },
   {
    "duration": 27,
    "start_time": "2022-12-05T12:39:57.514Z"
   },
   {
    "duration": 28,
    "start_time": "2022-12-05T12:43:20.596Z"
   },
   {
    "duration": 17,
    "start_time": "2022-12-05T12:43:44.585Z"
   },
   {
    "duration": 353,
    "start_time": "2022-12-05T12:43:54.344Z"
   },
   {
    "duration": 11,
    "start_time": "2022-12-05T12:45:10.053Z"
   },
   {
    "duration": 1593,
    "start_time": "2022-12-06T10:23:31.856Z"
   },
   {
    "duration": 289,
    "start_time": "2022-12-06T10:23:33.451Z"
   },
   {
    "duration": 256,
    "start_time": "2022-12-06T10:23:33.742Z"
   },
   {
    "duration": 241,
    "start_time": "2022-12-06T10:23:34.001Z"
   },
   {
    "duration": 21,
    "start_time": "2022-12-06T10:23:34.244Z"
   },
   {
    "duration": 39,
    "start_time": "2022-12-06T10:23:34.267Z"
   },
   {
    "duration": 57,
    "start_time": "2022-12-06T10:23:34.308Z"
   },
   {
    "duration": 98,
    "start_time": "2022-12-06T10:23:34.367Z"
   },
   {
    "duration": 156,
    "start_time": "2022-12-06T10:23:34.468Z"
   },
   {
    "duration": 45,
    "start_time": "2022-12-06T10:23:34.627Z"
   },
   {
    "duration": 52,
    "start_time": "2022-12-06T10:23:34.674Z"
   },
   {
    "duration": 35,
    "start_time": "2022-12-06T10:23:34.728Z"
   },
   {
    "duration": 94,
    "start_time": "2022-12-06T10:23:34.765Z"
   },
   {
    "duration": 94,
    "start_time": "2022-12-06T10:23:34.861Z"
   },
   {
    "duration": 18,
    "start_time": "2022-12-06T10:23:34.957Z"
   },
   {
    "duration": 13,
    "start_time": "2022-12-06T10:23:34.977Z"
   },
   {
    "duration": 37,
    "start_time": "2022-12-06T10:23:34.992Z"
   },
   {
    "duration": 33,
    "start_time": "2022-12-06T10:23:35.031Z"
   },
   {
    "duration": 201,
    "start_time": "2022-12-06T10:23:35.066Z"
   },
   {
    "duration": 90,
    "start_time": "2022-12-06T10:23:35.270Z"
   },
   {
    "duration": 11,
    "start_time": "2022-12-06T10:23:35.363Z"
   },
   {
    "duration": 79,
    "start_time": "2022-12-06T10:23:35.377Z"
   },
   {
    "duration": 27,
    "start_time": "2022-12-06T10:23:35.458Z"
   },
   {
    "duration": 208,
    "start_time": "2022-12-06T10:23:35.487Z"
   },
   {
    "duration": 192,
    "start_time": "2022-12-06T10:23:35.696Z"
   },
   {
    "duration": 187,
    "start_time": "2022-12-06T10:23:35.890Z"
   },
   {
    "duration": 5,
    "start_time": "2022-12-06T10:23:36.079Z"
   },
   {
    "duration": 26,
    "start_time": "2022-12-06T10:23:36.087Z"
   },
   {
    "duration": 43,
    "start_time": "2022-12-06T10:23:36.115Z"
   },
   {
    "duration": 18,
    "start_time": "2022-12-06T10:23:36.159Z"
   },
   {
    "duration": 3,
    "start_time": "2022-12-06T10:23:36.179Z"
   },
   {
    "duration": 124,
    "start_time": "2022-12-06T10:23:39.721Z"
   },
   {
    "duration": 16,
    "start_time": "2022-12-06T10:31:48.198Z"
   },
   {
    "duration": 36,
    "start_time": "2022-12-06T10:32:34.348Z"
   },
   {
    "duration": 14,
    "start_time": "2022-12-06T10:34:12.123Z"
   },
   {
    "duration": 32,
    "start_time": "2022-12-06T10:34:24.426Z"
   },
   {
    "duration": 17,
    "start_time": "2022-12-06T10:34:34.825Z"
   },
   {
    "duration": 34,
    "start_time": "2022-12-06T10:35:14.556Z"
   },
   {
    "duration": 23,
    "start_time": "2022-12-06T10:40:36.516Z"
   },
   {
    "duration": 34,
    "start_time": "2022-12-06T10:40:47.414Z"
   },
   {
    "duration": 14,
    "start_time": "2022-12-06T10:41:38.290Z"
   },
   {
    "duration": 25,
    "start_time": "2022-12-06T10:44:39.618Z"
   },
   {
    "duration": 16,
    "start_time": "2022-12-06T10:45:41.028Z"
   },
   {
    "duration": 32,
    "start_time": "2022-12-06T10:46:52.792Z"
   },
   {
    "duration": 36,
    "start_time": "2022-12-06T10:47:21.659Z"
   },
   {
    "duration": 20,
    "start_time": "2022-12-06T10:47:46.848Z"
   },
   {
    "duration": 17,
    "start_time": "2022-12-06T10:51:08.990Z"
   },
   {
    "duration": 33,
    "start_time": "2022-12-06T10:51:39.992Z"
   },
   {
    "duration": 17,
    "start_time": "2022-12-06T10:52:27.164Z"
   },
   {
    "duration": 15,
    "start_time": "2022-12-06T11:04:03.374Z"
   },
   {
    "duration": 14,
    "start_time": "2022-12-06T11:04:27.129Z"
   },
   {
    "duration": 3,
    "start_time": "2022-12-06T11:08:37.209Z"
   },
   {
    "duration": 18,
    "start_time": "2022-12-06T11:08:39.636Z"
   },
   {
    "duration": 4,
    "start_time": "2022-12-06T11:10:38.893Z"
   },
   {
    "duration": 15,
    "start_time": "2022-12-06T11:10:40.950Z"
   },
   {
    "duration": 12,
    "start_time": "2022-12-06T11:12:01.768Z"
   },
   {
    "duration": 11,
    "start_time": "2022-12-06T11:12:03.847Z"
   },
   {
    "duration": 4,
    "start_time": "2022-12-06T11:21:52.325Z"
   },
   {
    "duration": 11,
    "start_time": "2022-12-06T11:21:54.423Z"
   },
   {
    "duration": 11,
    "start_time": "2022-12-06T11:21:57.801Z"
   },
   {
    "duration": 12,
    "start_time": "2022-12-06T11:22:00.930Z"
   },
   {
    "duration": 4,
    "start_time": "2022-12-06T11:22:34.131Z"
   },
   {
    "duration": 15,
    "start_time": "2022-12-06T11:22:36.294Z"
   },
   {
    "duration": 12,
    "start_time": "2022-12-06T11:22:42.230Z"
   },
   {
    "duration": 12,
    "start_time": "2022-12-06T11:22:44.580Z"
   },
   {
    "duration": 11,
    "start_time": "2022-12-06T11:25:53.386Z"
   },
   {
    "duration": 9124,
    "start_time": "2022-12-06T11:26:52.116Z"
   },
   {
    "duration": 9237,
    "start_time": "2022-12-06T11:39:23.094Z"
   },
   {
    "duration": 9290,
    "start_time": "2022-12-06T11:40:10.054Z"
   },
   {
    "duration": 5,
    "start_time": "2022-12-06T11:42:06.373Z"
   },
   {
    "duration": 17,
    "start_time": "2022-12-06T11:42:12.881Z"
   },
   {
    "duration": 12,
    "start_time": "2022-12-06T11:43:04.319Z"
   },
   {
    "duration": 3,
    "start_time": "2022-12-06T11:44:44.031Z"
   },
   {
    "duration": 25,
    "start_time": "2022-12-06T11:44:53.267Z"
   },
   {
    "duration": 24,
    "start_time": "2022-12-06T11:45:03.018Z"
   },
   {
    "duration": 3,
    "start_time": "2022-12-06T11:45:23.403Z"
   },
   {
    "duration": 11,
    "start_time": "2022-12-06T11:45:35.951Z"
   },
   {
    "duration": 12,
    "start_time": "2022-12-06T11:46:16.886Z"
   },
   {
    "duration": 13,
    "start_time": "2022-12-06T11:46:41.964Z"
   },
   {
    "duration": 13,
    "start_time": "2022-12-06T11:46:43.968Z"
   },
   {
    "duration": 7761,
    "start_time": "2022-12-06T11:46:49.886Z"
   },
   {
    "duration": 7836,
    "start_time": "2022-12-06T11:47:54.667Z"
   },
   {
    "duration": 7778,
    "start_time": "2022-12-06T11:48:18.504Z"
   },
   {
    "duration": 8377,
    "start_time": "2022-12-06T11:52:19.343Z"
   },
   {
    "duration": 7974,
    "start_time": "2022-12-06T11:54:37.200Z"
   },
   {
    "duration": 8294,
    "start_time": "2022-12-06T11:55:49.621Z"
   },
   {
    "duration": 8564,
    "start_time": "2022-12-06T11:56:17.012Z"
   },
   {
    "duration": 7706,
    "start_time": "2022-12-06T12:01:47.323Z"
   },
   {
    "duration": 7726,
    "start_time": "2022-12-06T12:02:52.547Z"
   },
   {
    "duration": 7887,
    "start_time": "2022-12-06T12:04:41.523Z"
   },
   {
    "duration": 8166,
    "start_time": "2022-12-06T12:05:26.744Z"
   },
   {
    "duration": 8188,
    "start_time": "2022-12-06T12:06:23.280Z"
   },
   {
    "duration": 7721,
    "start_time": "2022-12-06T12:06:48.071Z"
   },
   {
    "duration": 7649,
    "start_time": "2022-12-06T12:07:43.088Z"
   },
   {
    "duration": 7822,
    "start_time": "2022-12-06T12:08:22.085Z"
   },
   {
    "duration": 11,
    "start_time": "2022-12-06T12:09:43.799Z"
   },
   {
    "duration": 12,
    "start_time": "2022-12-06T12:09:47.610Z"
   },
   {
    "duration": 7664,
    "start_time": "2022-12-06T12:10:16.517Z"
   },
   {
    "duration": 7982,
    "start_time": "2022-12-06T12:14:44.357Z"
   },
   {
    "duration": 7876,
    "start_time": "2022-12-06T12:15:06.557Z"
   },
   {
    "duration": 13,
    "start_time": "2022-12-06T12:15:23.432Z"
   },
   {
    "duration": 5,
    "start_time": "2022-12-06T12:16:25.180Z"
   },
   {
    "duration": 11,
    "start_time": "2022-12-06T12:17:10.159Z"
   },
   {
    "duration": 10,
    "start_time": "2022-12-06T12:20:52.084Z"
   },
   {
    "duration": 5,
    "start_time": "2022-12-06T12:22:37.062Z"
   },
   {
    "duration": 10,
    "start_time": "2022-12-06T12:48:51.153Z"
   },
   {
    "duration": 4,
    "start_time": "2022-12-06T12:49:43.003Z"
   },
   {
    "duration": 10,
    "start_time": "2022-12-06T12:50:17.164Z"
   },
   {
    "duration": 11,
    "start_time": "2022-12-06T12:50:53.990Z"
   },
   {
    "duration": 10,
    "start_time": "2022-12-06T12:52:35.502Z"
   },
   {
    "duration": 15,
    "start_time": "2022-12-06T12:59:28.403Z"
   },
   {
    "duration": 10,
    "start_time": "2022-12-06T13:01:25.796Z"
   },
   {
    "duration": 12,
    "start_time": "2022-12-06T13:01:30.186Z"
   },
   {
    "duration": 11,
    "start_time": "2022-12-06T13:02:30.000Z"
   },
   {
    "duration": 7903,
    "start_time": "2022-12-06T13:03:18.092Z"
   },
   {
    "duration": 8221,
    "start_time": "2022-12-06T13:03:35.722Z"
   },
   {
    "duration": 3,
    "start_time": "2022-12-06T13:04:08.159Z"
   },
   {
    "duration": 13,
    "start_time": "2022-12-06T13:04:36.208Z"
   },
   {
    "duration": 10,
    "start_time": "2022-12-06T13:04:48.782Z"
   },
   {
    "duration": 3,
    "start_time": "2022-12-06T13:05:07.656Z"
   },
   {
    "duration": 10,
    "start_time": "2022-12-06T13:05:09.248Z"
   },
   {
    "duration": 5,
    "start_time": "2022-12-06T13:06:19.852Z"
   },
   {
    "duration": 12,
    "start_time": "2022-12-06T13:08:36.877Z"
   },
   {
    "duration": 12,
    "start_time": "2022-12-06T13:08:38.977Z"
   },
   {
    "duration": 12,
    "start_time": "2022-12-06T13:08:42.117Z"
   },
   {
    "duration": 11,
    "start_time": "2022-12-06T13:11:33.199Z"
   },
   {
    "duration": 11,
    "start_time": "2022-12-06T13:11:50.848Z"
   },
   {
    "duration": 4,
    "start_time": "2022-12-06T13:19:11.820Z"
   },
   {
    "duration": 6,
    "start_time": "2022-12-06T13:21:25.809Z"
   },
   {
    "duration": 15,
    "start_time": "2022-12-06T13:23:11.387Z"
   },
   {
    "duration": 51,
    "start_time": "2022-12-06T13:25:23.420Z"
   },
   {
    "duration": 52,
    "start_time": "2022-12-06T13:25:29.126Z"
   },
   {
    "duration": 17,
    "start_time": "2022-12-06T13:25:39.454Z"
   },
   {
    "duration": 6,
    "start_time": "2022-12-06T13:27:18.152Z"
   },
   {
    "duration": 8,
    "start_time": "2022-12-06T13:27:34.142Z"
   },
   {
    "duration": 11,
    "start_time": "2022-12-06T13:28:17.998Z"
   },
   {
    "duration": 8746,
    "start_time": "2022-12-06T13:29:22.303Z"
   },
   {
    "duration": 8153,
    "start_time": "2022-12-06T13:30:06.661Z"
   },
   {
    "duration": 12,
    "start_time": "2022-12-06T13:30:14.817Z"
   },
   {
    "duration": 4,
    "start_time": "2022-12-06T13:33:14.708Z"
   },
   {
    "duration": 8138,
    "start_time": "2022-12-06T13:33:56.845Z"
   },
   {
    "duration": 8502,
    "start_time": "2022-12-06T13:34:34.739Z"
   },
   {
    "duration": 4,
    "start_time": "2022-12-06T13:35:01.192Z"
   },
   {
    "duration": 8790,
    "start_time": "2022-12-06T13:35:35.116Z"
   },
   {
    "duration": 4,
    "start_time": "2022-12-06T13:35:59.544Z"
   },
   {
    "duration": 4,
    "start_time": "2022-12-06T13:37:05.603Z"
   },
   {
    "duration": 8204,
    "start_time": "2022-12-06T13:37:15.174Z"
   },
   {
    "duration": 4,
    "start_time": "2022-12-06T13:37:23.381Z"
   },
   {
    "duration": 8612,
    "start_time": "2022-12-06T13:37:57.481Z"
   },
   {
    "duration": 5,
    "start_time": "2022-12-06T13:38:26.407Z"
   },
   {
    "duration": 8507,
    "start_time": "2022-12-06T13:38:51.849Z"
   },
   {
    "duration": 6,
    "start_time": "2022-12-06T13:39:06.904Z"
   },
   {
    "duration": 7,
    "start_time": "2022-12-06T13:39:44.443Z"
   },
   {
    "duration": 5,
    "start_time": "2022-12-06T13:40:23.006Z"
   },
   {
    "duration": 5,
    "start_time": "2022-12-06T13:40:55.354Z"
   },
   {
    "duration": 185,
    "start_time": "2022-12-06T13:40:55.362Z"
   },
   {
    "duration": 155,
    "start_time": "2022-12-06T13:40:55.549Z"
   },
   {
    "duration": 169,
    "start_time": "2022-12-06T13:40:55.706Z"
   },
   {
    "duration": 32,
    "start_time": "2022-12-06T13:40:55.878Z"
   },
   {
    "duration": 48,
    "start_time": "2022-12-06T13:40:55.912Z"
   },
   {
    "duration": 106,
    "start_time": "2022-12-06T13:40:55.962Z"
   },
   {
    "duration": 85,
    "start_time": "2022-12-06T13:40:56.071Z"
   },
   {
    "duration": 14,
    "start_time": "2022-12-06T13:40:56.159Z"
   },
   {
    "duration": 81,
    "start_time": "2022-12-06T13:40:56.175Z"
   },
   {
    "duration": 58,
    "start_time": "2022-12-06T13:40:56.258Z"
   },
   {
    "duration": 35,
    "start_time": "2022-12-06T13:40:56.318Z"
   },
   {
    "duration": 116,
    "start_time": "2022-12-06T13:40:56.357Z"
   },
   {
    "duration": 66,
    "start_time": "2022-12-06T13:40:56.497Z"
   },
   {
    "duration": 23,
    "start_time": "2022-12-06T13:40:56.566Z"
   },
   {
    "duration": 8,
    "start_time": "2022-12-06T13:40:56.591Z"
   },
   {
    "duration": 37,
    "start_time": "2022-12-06T13:40:56.601Z"
   },
   {
    "duration": 45,
    "start_time": "2022-12-06T13:40:56.641Z"
   },
   {
    "duration": 71,
    "start_time": "2022-12-06T13:40:56.688Z"
   },
   {
    "duration": 90,
    "start_time": "2022-12-06T13:40:56.764Z"
   },
   {
    "duration": 12,
    "start_time": "2022-12-06T13:40:56.857Z"
   },
   {
    "duration": 8,
    "start_time": "2022-12-06T13:40:56.872Z"
   },
   {
    "duration": 29,
    "start_time": "2022-12-06T13:40:56.882Z"
   },
   {
    "duration": 289,
    "start_time": "2022-12-06T13:40:56.914Z"
   },
   {
    "duration": 344,
    "start_time": "2022-12-06T13:40:57.206Z"
   },
   {
    "duration": 192,
    "start_time": "2022-12-06T13:40:57.555Z"
   },
   {
    "duration": 11,
    "start_time": "2022-12-06T13:40:57.750Z"
   },
   {
    "duration": 24,
    "start_time": "2022-12-06T13:40:57.764Z"
   },
   {
    "duration": 20,
    "start_time": "2022-12-06T13:40:57.790Z"
   },
   {
    "duration": 46,
    "start_time": "2022-12-06T13:40:57.814Z"
   },
   {
    "duration": 5,
    "start_time": "2022-12-06T13:40:57.864Z"
   },
   {
    "duration": 26,
    "start_time": "2022-12-06T13:40:57.871Z"
   },
   {
    "duration": 4,
    "start_time": "2022-12-06T13:40:57.899Z"
   },
   {
    "duration": 12,
    "start_time": "2022-12-06T13:40:57.905Z"
   },
   {
    "duration": 8,
    "start_time": "2022-12-06T13:40:57.919Z"
   },
   {
    "duration": 14,
    "start_time": "2022-12-06T13:40:57.954Z"
   },
   {
    "duration": 15,
    "start_time": "2022-12-06T13:40:57.970Z"
   },
   {
    "duration": 15,
    "start_time": "2022-12-06T13:40:57.988Z"
   },
   {
    "duration": 9806,
    "start_time": "2022-12-06T13:40:58.006Z"
   },
   {
    "duration": 6,
    "start_time": "2022-12-06T13:41:07.814Z"
   },
   {
    "duration": 9207,
    "start_time": "2022-12-06T13:41:07.825Z"
   },
   {
    "duration": 5,
    "start_time": "2022-12-06T13:41:17.034Z"
   },
   {
    "duration": 9476,
    "start_time": "2022-12-06T13:41:17.056Z"
   },
   {
    "duration": 5,
    "start_time": "2022-12-06T13:41:26.535Z"
   },
   {
    "duration": 3,
    "start_time": "2022-12-06T13:46:20.085Z"
   },
   {
    "duration": 5,
    "start_time": "2022-12-06T13:46:30.102Z"
   },
   {
    "duration": 4,
    "start_time": "2022-12-06T13:46:33.823Z"
   },
   {
    "duration": 1472,
    "start_time": "2022-12-06T14:03:41.574Z"
   },
   {
    "duration": 219,
    "start_time": "2022-12-06T14:03:43.049Z"
   },
   {
    "duration": 167,
    "start_time": "2022-12-06T14:03:43.271Z"
   },
   {
    "duration": 189,
    "start_time": "2022-12-06T14:03:43.440Z"
   },
   {
    "duration": 29,
    "start_time": "2022-12-06T14:03:43.631Z"
   },
   {
    "duration": 54,
    "start_time": "2022-12-06T14:03:43.662Z"
   },
   {
    "duration": 238,
    "start_time": "2022-12-06T14:03:43.718Z"
   },
   {
    "duration": 88,
    "start_time": "2022-12-06T14:03:43.967Z"
   },
   {
    "duration": 27,
    "start_time": "2022-12-06T14:03:44.058Z"
   },
   {
    "duration": 4,
    "start_time": "2022-12-06T14:03:44.088Z"
   },
   {
    "duration": 30,
    "start_time": "2022-12-06T14:03:44.094Z"
   },
   {
    "duration": 45,
    "start_time": "2022-12-06T14:03:44.127Z"
   },
   {
    "duration": 97,
    "start_time": "2022-12-06T14:03:44.175Z"
   },
   {
    "duration": 94,
    "start_time": "2022-12-06T14:03:44.276Z"
   },
   {
    "duration": 124,
    "start_time": "2022-12-06T14:03:44.374Z"
   },
   {
    "duration": 13,
    "start_time": "2022-12-06T14:03:44.500Z"
   },
   {
    "duration": 41,
    "start_time": "2022-12-06T14:03:44.515Z"
   },
   {
    "duration": 41,
    "start_time": "2022-12-06T14:03:44.558Z"
   },
   {
    "duration": 73,
    "start_time": "2022-12-06T14:03:44.601Z"
   },
   {
    "duration": 8,
    "start_time": "2022-12-06T14:03:44.676Z"
   },
   {
    "duration": 56,
    "start_time": "2022-12-06T14:03:44.761Z"
   },
   {
    "duration": 5,
    "start_time": "2022-12-06T14:03:44.856Z"
   },
   {
    "duration": 42,
    "start_time": "2022-12-06T14:03:44.863Z"
   },
   {
    "duration": 247,
    "start_time": "2022-12-06T14:03:44.908Z"
   },
   {
    "duration": 230,
    "start_time": "2022-12-06T14:03:45.157Z"
   },
   {
    "duration": 209,
    "start_time": "2022-12-06T14:03:45.390Z"
   },
   {
    "duration": 7,
    "start_time": "2022-12-06T14:03:45.600Z"
   },
   {
    "duration": 32,
    "start_time": "2022-12-06T14:03:45.610Z"
   },
   {
    "duration": 22,
    "start_time": "2022-12-06T14:03:45.644Z"
   },
   {
    "duration": 26,
    "start_time": "2022-12-06T14:03:45.667Z"
   },
   {
    "duration": 5,
    "start_time": "2022-12-06T14:03:45.695Z"
   },
   {
    "duration": 10,
    "start_time": "2022-12-06T14:03:45.702Z"
   },
   {
    "duration": 13,
    "start_time": "2022-12-06T14:03:45.714Z"
   },
   {
    "duration": 30,
    "start_time": "2022-12-06T14:03:45.728Z"
   },
   {
    "duration": 48,
    "start_time": "2022-12-06T14:03:45.760Z"
   },
   {
    "duration": 12,
    "start_time": "2022-12-06T14:03:45.810Z"
   },
   {
    "duration": 12,
    "start_time": "2022-12-06T14:03:45.824Z"
   },
   {
    "duration": 9909,
    "start_time": "2022-12-06T14:03:45.838Z"
   },
   {
    "duration": 7,
    "start_time": "2022-12-06T14:03:55.750Z"
   },
   {
    "duration": 10463,
    "start_time": "2022-12-06T14:03:55.760Z"
   },
   {
    "duration": 5,
    "start_time": "2022-12-06T14:04:06.225Z"
   },
   {
    "duration": 10056,
    "start_time": "2022-12-06T14:04:06.233Z"
   },
   {
    "duration": 5,
    "start_time": "2022-12-06T14:04:16.291Z"
   },
   {
    "duration": 1290,
    "start_time": "2022-12-07T12:05:14.433Z"
   },
   {
    "duration": 1126,
    "start_time": "2022-12-07T12:05:15.725Z"
   },
   {
    "duration": 594,
    "start_time": "2022-12-07T12:05:16.852Z"
   },
   {
    "duration": 563,
    "start_time": "2022-12-07T12:05:17.449Z"
   },
   {
    "duration": 19,
    "start_time": "2022-12-07T12:05:18.014Z"
   },
   {
    "duration": 25,
    "start_time": "2022-12-07T12:05:18.035Z"
   },
   {
    "duration": 116,
    "start_time": "2022-12-07T12:05:18.062Z"
   },
   {
    "duration": 96,
    "start_time": "2022-12-07T12:05:18.183Z"
   },
   {
    "duration": 9,
    "start_time": "2022-12-07T12:05:18.280Z"
   },
   {
    "duration": 4,
    "start_time": "2022-12-07T12:05:18.292Z"
   },
   {
    "duration": 22,
    "start_time": "2022-12-07T12:05:18.297Z"
   },
   {
    "duration": 25,
    "start_time": "2022-12-07T12:05:18.321Z"
   },
   {
    "duration": 53,
    "start_time": "2022-12-07T12:05:18.347Z"
   },
   {
    "duration": 78,
    "start_time": "2022-12-07T12:05:18.403Z"
   },
   {
    "duration": 104,
    "start_time": "2022-12-07T12:05:18.483Z"
   },
   {
    "duration": 4,
    "start_time": "2022-12-07T12:05:18.589Z"
   },
   {
    "duration": 23,
    "start_time": "2022-12-07T12:05:18.594Z"
   },
   {
    "duration": 25,
    "start_time": "2022-12-07T12:05:18.618Z"
   },
   {
    "duration": 57,
    "start_time": "2022-12-07T12:05:18.644Z"
   },
   {
    "duration": 8,
    "start_time": "2022-12-07T12:05:18.778Z"
   },
   {
    "duration": 100,
    "start_time": "2022-12-07T12:05:18.787Z"
   },
   {
    "duration": 3,
    "start_time": "2022-12-07T12:05:18.888Z"
   },
   {
    "duration": 20,
    "start_time": "2022-12-07T12:05:18.892Z"
   },
   {
    "duration": 208,
    "start_time": "2022-12-07T12:05:18.913Z"
   },
   {
    "duration": 200,
    "start_time": "2022-12-07T12:05:19.123Z"
   },
   {
    "duration": 156,
    "start_time": "2022-12-07T12:05:19.324Z"
   },
   {
    "duration": 5,
    "start_time": "2022-12-07T12:05:19.481Z"
   },
   {
    "duration": 24,
    "start_time": "2022-12-07T12:05:19.489Z"
   },
   {
    "duration": 17,
    "start_time": "2022-12-07T12:05:19.515Z"
   },
   {
    "duration": 17,
    "start_time": "2022-12-07T12:05:19.534Z"
   },
   {
    "duration": 26,
    "start_time": "2022-12-07T12:05:19.552Z"
   },
   {
    "duration": 24,
    "start_time": "2022-12-07T12:05:19.579Z"
   },
   {
    "duration": 11,
    "start_time": "2022-12-07T12:05:19.605Z"
   },
   {
    "duration": 11,
    "start_time": "2022-12-07T12:05:19.617Z"
   },
   {
    "duration": 7083,
    "start_time": "2022-12-07T12:05:19.630Z"
   },
   {
    "duration": 4,
    "start_time": "2022-12-07T12:05:26.715Z"
   },
   {
    "duration": 7459,
    "start_time": "2022-12-07T12:05:26.721Z"
   },
   {
    "duration": 7,
    "start_time": "2022-12-07T12:05:34.182Z"
   },
   {
    "duration": 7349,
    "start_time": "2022-12-07T12:05:34.190Z"
   },
   {
    "duration": 4,
    "start_time": "2022-12-07T12:05:41.541Z"
   },
   {
    "duration": 14,
    "start_time": "2022-12-07T13:17:36.976Z"
   },
   {
    "duration": 45,
    "start_time": "2022-12-08T04:02:41.934Z"
   },
   {
    "duration": 1644,
    "start_time": "2022-12-08T04:02:47.506Z"
   },
   {
    "duration": 1002,
    "start_time": "2022-12-08T04:02:49.152Z"
   },
   {
    "duration": 543,
    "start_time": "2022-12-08T04:02:50.156Z"
   },
   {
    "duration": 580,
    "start_time": "2022-12-08T04:02:50.701Z"
   },
   {
    "duration": 48,
    "start_time": "2022-12-08T04:03:00.688Z"
   },
   {
    "duration": 125,
    "start_time": "2022-12-08T04:03:30.984Z"
   },
   {
    "duration": 69,
    "start_time": "2022-12-08T04:11:57.495Z"
   },
   {
    "duration": 4,
    "start_time": "2022-12-08T04:12:05.504Z"
   },
   {
    "duration": 165,
    "start_time": "2022-12-08T04:12:05.509Z"
   },
   {
    "duration": 141,
    "start_time": "2022-12-08T04:12:05.676Z"
   },
   {
    "duration": 155,
    "start_time": "2022-12-08T04:12:05.821Z"
   },
   {
    "duration": 130,
    "start_time": "2022-12-08T04:12:05.978Z"
   },
   {
    "duration": 29,
    "start_time": "2022-12-08T04:12:06.110Z"
   },
   {
    "duration": 22,
    "start_time": "2022-12-08T04:12:06.141Z"
   },
   {
    "duration": 75,
    "start_time": "2022-12-08T04:12:06.165Z"
   },
   {
    "duration": 100,
    "start_time": "2022-12-08T04:12:06.242Z"
   },
   {
    "duration": 20,
    "start_time": "2022-12-08T04:12:06.422Z"
   },
   {
    "duration": 4,
    "start_time": "2022-12-08T04:12:06.444Z"
   },
   {
    "duration": 21,
    "start_time": "2022-12-08T04:12:06.450Z"
   },
   {
    "duration": 23,
    "start_time": "2022-12-08T04:12:06.473Z"
   },
   {
    "duration": 45,
    "start_time": "2022-12-08T04:12:06.497Z"
   },
   {
    "duration": 82,
    "start_time": "2022-12-08T04:12:06.543Z"
   },
   {
    "duration": 105,
    "start_time": "2022-12-08T04:12:06.627Z"
   },
   {
    "duration": 5,
    "start_time": "2022-12-08T04:12:06.733Z"
   },
   {
    "duration": 21,
    "start_time": "2022-12-08T04:12:06.739Z"
   },
   {
    "duration": 23,
    "start_time": "2022-12-08T04:12:06.761Z"
   },
   {
    "duration": 41,
    "start_time": "2022-12-08T04:12:06.786Z"
   },
   {
    "duration": 7,
    "start_time": "2022-12-08T04:12:06.828Z"
   },
   {
    "duration": 91,
    "start_time": "2022-12-08T04:12:06.836Z"
   },
   {
    "duration": 96,
    "start_time": "2022-12-08T04:12:06.929Z"
   },
   {
    "duration": 17,
    "start_time": "2022-12-08T04:12:07.027Z"
   },
   {
    "duration": 194,
    "start_time": "2022-12-08T04:12:07.046Z"
   },
   {
    "duration": 195,
    "start_time": "2022-12-08T04:12:07.242Z"
   },
   {
    "duration": 167,
    "start_time": "2022-12-08T04:12:07.439Z"
   },
   {
    "duration": 5,
    "start_time": "2022-12-08T04:12:07.607Z"
   },
   {
    "duration": 25,
    "start_time": "2022-12-08T04:12:07.622Z"
   },
   {
    "duration": 17,
    "start_time": "2022-12-08T04:12:07.648Z"
   },
   {
    "duration": 15,
    "start_time": "2022-12-08T04:12:07.667Z"
   },
   {
    "duration": 3,
    "start_time": "2022-12-08T04:12:07.684Z"
   },
   {
    "duration": 45,
    "start_time": "2022-12-08T04:12:07.689Z"
   },
   {
    "duration": 11,
    "start_time": "2022-12-08T04:12:07.736Z"
   },
   {
    "duration": 12,
    "start_time": "2022-12-08T04:12:07.749Z"
   },
   {
    "duration": 8020,
    "start_time": "2022-12-08T04:12:07.762Z"
   },
   {
    "duration": 4,
    "start_time": "2022-12-08T04:12:15.784Z"
   },
   {
    "duration": 7895,
    "start_time": "2022-12-08T04:12:15.789Z"
   },
   {
    "duration": 3,
    "start_time": "2022-12-08T04:12:23.686Z"
   },
   {
    "duration": 8073,
    "start_time": "2022-12-08T04:12:23.691Z"
   },
   {
    "duration": 5,
    "start_time": "2022-12-08T04:12:31.765Z"
   },
   {
    "duration": 15,
    "start_time": "2022-12-08T04:13:44.469Z"
   },
   {
    "duration": 17,
    "start_time": "2022-12-08T04:13:58.547Z"
   },
   {
    "duration": 5,
    "start_time": "2022-12-08T04:17:43.149Z"
   },
   {
    "duration": 167,
    "start_time": "2022-12-08T04:19:22.038Z"
   },
   {
    "duration": 3,
    "start_time": "2022-12-08T04:19:33.781Z"
   },
   {
    "duration": 230,
    "start_time": "2022-12-08T04:19:33.786Z"
   },
   {
    "duration": 132,
    "start_time": "2022-12-08T04:19:34.018Z"
   },
   {
    "duration": 145,
    "start_time": "2022-12-08T04:19:34.152Z"
   },
   {
    "duration": 135,
    "start_time": "2022-12-08T04:19:34.300Z"
   },
   {
    "duration": 24,
    "start_time": "2022-12-08T04:19:34.437Z"
   },
   {
    "duration": 108,
    "start_time": "2022-12-08T04:19:34.463Z"
   },
   {
    "duration": 63,
    "start_time": "2022-12-08T04:19:34.572Z"
   },
   {
    "duration": 6,
    "start_time": "2022-12-08T04:19:34.636Z"
   },
   {
    "duration": 102,
    "start_time": "2022-12-08T04:19:34.643Z"
   },
   {
    "duration": 8,
    "start_time": "2022-12-08T04:19:34.748Z"
   },
   {
    "duration": 78,
    "start_time": "2022-12-08T04:19:34.758Z"
   },
   {
    "duration": 21,
    "start_time": "2022-12-08T04:19:34.838Z"
   },
   {
    "duration": 69,
    "start_time": "2022-12-08T04:19:34.861Z"
   },
   {
    "duration": 99,
    "start_time": "2022-12-08T04:19:34.931Z"
   },
   {
    "duration": 14,
    "start_time": "2022-12-08T04:19:35.032Z"
   },
   {
    "duration": 4,
    "start_time": "2022-12-08T04:19:35.048Z"
   },
   {
    "duration": 27,
    "start_time": "2022-12-08T04:19:35.053Z"
   },
   {
    "duration": 20,
    "start_time": "2022-12-08T04:19:35.081Z"
   },
   {
    "duration": 35,
    "start_time": "2022-12-08T04:19:35.103Z"
   },
   {
    "duration": 5,
    "start_time": "2022-12-08T04:19:35.140Z"
   },
   {
    "duration": 176,
    "start_time": "2022-12-08T04:19:35.147Z"
   },
   {
    "duration": 4,
    "start_time": "2022-12-08T04:19:35.330Z"
   },
   {
    "duration": 1817,
    "start_time": "2022-12-08T04:19:35.335Z"
   },
   {
    "duration": 0,
    "start_time": "2022-12-08T04:19:37.153Z"
   },
   {
    "duration": 0,
    "start_time": "2022-12-08T04:19:37.155Z"
   },
   {
    "duration": 0,
    "start_time": "2022-12-08T04:19:37.155Z"
   },
   {
    "duration": 0,
    "start_time": "2022-12-08T04:19:37.157Z"
   },
   {
    "duration": 0,
    "start_time": "2022-12-08T04:19:37.158Z"
   },
   {
    "duration": 0,
    "start_time": "2022-12-08T04:19:37.159Z"
   },
   {
    "duration": 0,
    "start_time": "2022-12-08T04:19:37.160Z"
   },
   {
    "duration": 0,
    "start_time": "2022-12-08T04:19:37.162Z"
   },
   {
    "duration": 0,
    "start_time": "2022-12-08T04:19:37.162Z"
   },
   {
    "duration": 0,
    "start_time": "2022-12-08T04:19:37.163Z"
   },
   {
    "duration": 0,
    "start_time": "2022-12-08T04:19:37.164Z"
   },
   {
    "duration": 0,
    "start_time": "2022-12-08T04:19:37.166Z"
   },
   {
    "duration": 0,
    "start_time": "2022-12-08T04:19:37.166Z"
   },
   {
    "duration": 0,
    "start_time": "2022-12-08T04:19:37.167Z"
   },
   {
    "duration": 0,
    "start_time": "2022-12-08T04:19:37.168Z"
   },
   {
    "duration": 0,
    "start_time": "2022-12-08T04:19:37.170Z"
   },
   {
    "duration": 5,
    "start_time": "2022-12-08T04:22:59.873Z"
   },
   {
    "duration": 51,
    "start_time": "2022-12-08T08:11:07.533Z"
   },
   {
    "duration": 1433,
    "start_time": "2022-12-08T08:11:13.802Z"
   },
   {
    "duration": 243,
    "start_time": "2022-12-08T08:11:15.237Z"
   },
   {
    "duration": 219,
    "start_time": "2022-12-08T08:11:15.482Z"
   },
   {
    "duration": 219,
    "start_time": "2022-12-08T08:11:15.703Z"
   },
   {
    "duration": 126,
    "start_time": "2022-12-08T08:11:15.924Z"
   },
   {
    "duration": 20,
    "start_time": "2022-12-08T08:11:16.052Z"
   },
   {
    "duration": 26,
    "start_time": "2022-12-08T08:11:16.074Z"
   },
   {
    "duration": 44,
    "start_time": "2022-12-08T08:11:16.102Z"
   },
   {
    "duration": 88,
    "start_time": "2022-12-08T08:11:16.148Z"
   },
   {
    "duration": 122,
    "start_time": "2022-12-08T08:11:16.240Z"
   },
   {
    "duration": 7,
    "start_time": "2022-12-08T08:11:16.364Z"
   },
   {
    "duration": 34,
    "start_time": "2022-12-08T08:11:16.373Z"
   },
   {
    "duration": 29,
    "start_time": "2022-12-08T08:11:16.409Z"
   },
   {
    "duration": 100,
    "start_time": "2022-12-08T08:11:16.439Z"
   },
   {
    "duration": 95,
    "start_time": "2022-12-08T08:11:16.542Z"
   },
   {
    "duration": 9,
    "start_time": "2022-12-08T08:11:16.639Z"
   },
   {
    "duration": 94,
    "start_time": "2022-12-08T08:11:16.650Z"
   },
   {
    "duration": 43,
    "start_time": "2022-12-08T08:11:16.746Z"
   },
   {
    "duration": 31,
    "start_time": "2022-12-08T08:11:16.790Z"
   },
   {
    "duration": 23,
    "start_time": "2022-12-08T08:11:16.823Z"
   },
   {
    "duration": 105,
    "start_time": "2022-12-08T08:11:16.935Z"
   },
   {
    "duration": 30,
    "start_time": "2022-12-08T08:11:17.042Z"
   },
   {
    "duration": 34,
    "start_time": "2022-12-08T08:11:17.073Z"
   },
   {
    "duration": 96,
    "start_time": "2022-12-08T08:11:17.108Z"
   },
   {
    "duration": 0,
    "start_time": "2022-12-08T08:11:17.206Z"
   },
   {
    "duration": 0,
    "start_time": "2022-12-08T08:11:17.207Z"
   },
   {
    "duration": 0,
    "start_time": "2022-12-08T08:11:17.208Z"
   },
   {
    "duration": 0,
    "start_time": "2022-12-08T08:11:17.209Z"
   },
   {
    "duration": 1,
    "start_time": "2022-12-08T08:11:17.210Z"
   },
   {
    "duration": 0,
    "start_time": "2022-12-08T08:11:17.212Z"
   },
   {
    "duration": 0,
    "start_time": "2022-12-08T08:11:17.213Z"
   },
   {
    "duration": 0,
    "start_time": "2022-12-08T08:11:17.213Z"
   },
   {
    "duration": 1,
    "start_time": "2022-12-08T08:11:17.214Z"
   },
   {
    "duration": 0,
    "start_time": "2022-12-08T08:11:17.215Z"
   },
   {
    "duration": 0,
    "start_time": "2022-12-08T08:11:17.216Z"
   },
   {
    "duration": 0,
    "start_time": "2022-12-08T08:11:17.217Z"
   },
   {
    "duration": 0,
    "start_time": "2022-12-08T08:11:17.218Z"
   },
   {
    "duration": 0,
    "start_time": "2022-12-08T08:11:17.235Z"
   },
   {
    "duration": 9,
    "start_time": "2022-12-08T08:12:31.254Z"
   },
   {
    "duration": 152,
    "start_time": "2022-12-08T08:12:50.249Z"
   },
   {
    "duration": 144,
    "start_time": "2022-12-08T08:13:16.375Z"
   },
   {
    "duration": 148,
    "start_time": "2022-12-08T08:13:19.735Z"
   },
   {
    "duration": 12,
    "start_time": "2022-12-08T08:14:52.535Z"
   },
   {
    "duration": 9,
    "start_time": "2022-12-08T08:15:00.226Z"
   },
   {
    "duration": 6,
    "start_time": "2022-12-08T08:15:16.193Z"
   },
   {
    "duration": 9,
    "start_time": "2022-12-08T08:16:13.660Z"
   },
   {
    "duration": 7,
    "start_time": "2022-12-08T08:16:34.734Z"
   },
   {
    "duration": 7,
    "start_time": "2022-12-08T08:17:29.330Z"
   },
   {
    "duration": 7,
    "start_time": "2022-12-08T08:17:31.790Z"
   },
   {
    "duration": 4,
    "start_time": "2022-12-08T08:22:05.602Z"
   },
   {
    "duration": 23,
    "start_time": "2022-12-08T08:22:41.604Z"
   },
   {
    "duration": 4,
    "start_time": "2022-12-08T08:23:10.387Z"
   },
   {
    "duration": 9,
    "start_time": "2022-12-08T08:23:12.975Z"
   },
   {
    "duration": 7,
    "start_time": "2022-12-08T08:23:49.330Z"
   },
   {
    "duration": 7,
    "start_time": "2022-12-08T08:24:27.459Z"
   },
   {
    "duration": 7,
    "start_time": "2022-12-08T08:24:29.701Z"
   },
   {
    "duration": 8,
    "start_time": "2022-12-08T08:28:04.150Z"
   },
   {
    "duration": 9,
    "start_time": "2022-12-08T08:28:06.646Z"
   },
   {
    "duration": 7,
    "start_time": "2022-12-08T08:28:08.380Z"
   },
   {
    "duration": 13,
    "start_time": "2022-12-08T08:34:59.098Z"
   },
   {
    "duration": 12,
    "start_time": "2022-12-08T08:35:10.140Z"
   },
   {
    "duration": 105,
    "start_time": "2022-12-08T08:40:46.232Z"
   },
   {
    "duration": 64,
    "start_time": "2022-12-08T08:41:07.078Z"
   },
   {
    "duration": 29,
    "start_time": "2022-12-08T08:43:41.735Z"
   },
   {
    "duration": 3,
    "start_time": "2022-12-08T08:45:47.967Z"
   },
   {
    "duration": 4,
    "start_time": "2022-12-08T08:46:20.562Z"
   },
   {
    "duration": 5,
    "start_time": "2022-12-08T08:46:23.679Z"
   },
   {
    "duration": 3,
    "start_time": "2022-12-08T08:47:54.533Z"
   },
   {
    "duration": 3,
    "start_time": "2022-12-08T08:47:56.285Z"
   },
   {
    "duration": 6,
    "start_time": "2022-12-08T08:47:58.579Z"
   },
   {
    "duration": 3,
    "start_time": "2022-12-08T08:48:10.384Z"
   },
   {
    "duration": 183,
    "start_time": "2022-12-08T08:48:10.391Z"
   },
   {
    "duration": 140,
    "start_time": "2022-12-08T08:48:10.576Z"
   },
   {
    "duration": 152,
    "start_time": "2022-12-08T08:48:10.718Z"
   },
   {
    "duration": 130,
    "start_time": "2022-12-08T08:48:10.872Z"
   },
   {
    "duration": 35,
    "start_time": "2022-12-08T08:48:11.004Z"
   },
   {
    "duration": 33,
    "start_time": "2022-12-08T08:48:11.041Z"
   },
   {
    "duration": 62,
    "start_time": "2022-12-08T08:48:11.076Z"
   },
   {
    "duration": 109,
    "start_time": "2022-12-08T08:48:11.140Z"
   },
   {
    "duration": 40,
    "start_time": "2022-12-08T08:48:11.250Z"
   },
   {
    "duration": 20,
    "start_time": "2022-12-08T08:48:11.293Z"
   },
   {
    "duration": 64,
    "start_time": "2022-12-08T08:48:11.315Z"
   },
   {
    "duration": 30,
    "start_time": "2022-12-08T08:48:11.381Z"
   },
   {
    "duration": 65,
    "start_time": "2022-12-08T08:48:11.413Z"
   },
   {
    "duration": 101,
    "start_time": "2022-12-08T08:48:11.537Z"
   },
   {
    "duration": 23,
    "start_time": "2022-12-08T08:48:11.639Z"
   },
   {
    "duration": 37,
    "start_time": "2022-12-08T08:48:11.663Z"
   },
   {
    "duration": 70,
    "start_time": "2022-12-08T08:48:11.702Z"
   },
   {
    "duration": 24,
    "start_time": "2022-12-08T08:48:11.774Z"
   },
   {
    "duration": 43,
    "start_time": "2022-12-08T08:48:11.800Z"
   },
   {
    "duration": 211,
    "start_time": "2022-12-08T08:48:11.846Z"
   },
   {
    "duration": 26,
    "start_time": "2022-12-08T08:48:12.058Z"
   },
   {
    "duration": 16,
    "start_time": "2022-12-08T08:48:12.086Z"
   },
   {
    "duration": 182,
    "start_time": "2022-12-08T08:48:12.104Z"
   },
   {
    "duration": 189,
    "start_time": "2022-12-08T08:48:12.288Z"
   },
   {
    "duration": 282,
    "start_time": "2022-12-08T08:48:12.479Z"
   },
   {
    "duration": 5,
    "start_time": "2022-12-08T08:48:12.763Z"
   },
   {
    "duration": 34,
    "start_time": "2022-12-08T08:48:12.769Z"
   },
   {
    "duration": 27,
    "start_time": "2022-12-08T08:48:12.807Z"
   },
   {
    "duration": 32,
    "start_time": "2022-12-08T08:48:12.836Z"
   },
   {
    "duration": 18,
    "start_time": "2022-12-08T08:48:12.870Z"
   },
   {
    "duration": 35,
    "start_time": "2022-12-08T08:48:12.890Z"
   },
   {
    "duration": 14,
    "start_time": "2022-12-08T08:48:12.927Z"
   },
   {
    "duration": 15,
    "start_time": "2022-12-08T08:48:12.943Z"
   },
   {
    "duration": 18,
    "start_time": "2022-12-08T08:48:12.959Z"
   },
   {
    "duration": 20,
    "start_time": "2022-12-08T08:48:12.979Z"
   },
   {
    "duration": 0,
    "start_time": "2022-12-08T08:48:13.000Z"
   },
   {
    "duration": 0,
    "start_time": "2022-12-08T08:48:13.001Z"
   },
   {
    "duration": 0,
    "start_time": "2022-12-08T08:48:13.002Z"
   },
   {
    "duration": 0,
    "start_time": "2022-12-08T08:48:13.003Z"
   },
   {
    "duration": 0,
    "start_time": "2022-12-08T08:48:13.004Z"
   },
   {
    "duration": 12,
    "start_time": "2022-12-08T08:49:11.116Z"
   },
   {
    "duration": 12,
    "start_time": "2022-12-08T08:49:48.158Z"
   },
   {
    "duration": 18,
    "start_time": "2022-12-08T08:50:59.398Z"
   },
   {
    "duration": 13,
    "start_time": "2022-12-08T08:53:51.933Z"
   },
   {
    "duration": 12,
    "start_time": "2022-12-08T09:02:07.930Z"
   },
   {
    "duration": 22,
    "start_time": "2022-12-08T09:02:28.148Z"
   },
   {
    "duration": 628,
    "start_time": "2022-12-08T09:20:08.873Z"
   },
   {
    "duration": 3,
    "start_time": "2022-12-08T09:20:37.135Z"
   },
   {
    "duration": 3,
    "start_time": "2022-12-08T09:20:40.361Z"
   },
   {
    "duration": 5,
    "start_time": "2022-12-08T09:20:48.928Z"
   },
   {
    "duration": 3,
    "start_time": "2022-12-08T09:21:15.310Z"
   },
   {
    "duration": 6,
    "start_time": "2022-12-08T09:21:19.320Z"
   },
   {
    "duration": 4,
    "start_time": "2022-12-08T09:21:24.257Z"
   },
   {
    "duration": 210,
    "start_time": "2022-12-08T09:21:24.263Z"
   },
   {
    "duration": 150,
    "start_time": "2022-12-08T09:21:24.475Z"
   },
   {
    "duration": 162,
    "start_time": "2022-12-08T09:21:24.626Z"
   },
   {
    "duration": 132,
    "start_time": "2022-12-08T09:21:24.791Z"
   },
   {
    "duration": 38,
    "start_time": "2022-12-08T09:21:24.925Z"
   },
   {
    "duration": 37,
    "start_time": "2022-12-08T09:21:24.964Z"
   },
   {
    "duration": 63,
    "start_time": "2022-12-08T09:21:25.003Z"
   },
   {
    "duration": 89,
    "start_time": "2022-12-08T09:21:25.151Z"
   },
   {
    "duration": 60,
    "start_time": "2022-12-08T09:21:25.246Z"
   },
   {
    "duration": 12,
    "start_time": "2022-12-08T09:21:25.308Z"
   },
   {
    "duration": 49,
    "start_time": "2022-12-08T09:21:25.322Z"
   },
   {
    "duration": 28,
    "start_time": "2022-12-08T09:21:25.373Z"
   },
   {
    "duration": 142,
    "start_time": "2022-12-08T09:21:25.404Z"
   },
   {
    "duration": 103,
    "start_time": "2022-12-08T09:21:25.550Z"
   },
   {
    "duration": 11,
    "start_time": "2022-12-08T09:21:25.654Z"
   },
   {
    "duration": 13,
    "start_time": "2022-12-08T09:21:25.667Z"
   },
   {
    "duration": 40,
    "start_time": "2022-12-08T09:21:25.682Z"
   },
   {
    "duration": 32,
    "start_time": "2022-12-08T09:21:25.724Z"
   },
   {
    "duration": 80,
    "start_time": "2022-12-08T09:21:25.758Z"
   },
   {
    "duration": 100,
    "start_time": "2022-12-08T09:21:25.840Z"
   },
   {
    "duration": 20,
    "start_time": "2022-12-08T09:21:25.942Z"
   },
   {
    "duration": 4,
    "start_time": "2022-12-08T09:21:25.963Z"
   },
   {
    "duration": 177,
    "start_time": "2022-12-08T09:21:25.969Z"
   },
   {
    "duration": 153,
    "start_time": "2022-12-08T09:21:26.149Z"
   },
   {
    "duration": 157,
    "start_time": "2022-12-08T09:21:26.303Z"
   },
   {
    "duration": 7,
    "start_time": "2022-12-08T09:21:26.461Z"
   },
   {
    "duration": 13,
    "start_time": "2022-12-08T09:21:26.470Z"
   },
   {
    "duration": 7,
    "start_time": "2022-12-08T09:21:26.485Z"
   },
   {
    "duration": 7,
    "start_time": "2022-12-08T09:21:26.493Z"
   },
   {
    "duration": 41,
    "start_time": "2022-12-08T09:21:26.502Z"
   },
   {
    "duration": 5,
    "start_time": "2022-12-08T09:21:26.549Z"
   },
   {
    "duration": 5,
    "start_time": "2022-12-08T09:21:26.556Z"
   },
   {
    "duration": 11,
    "start_time": "2022-12-08T09:21:26.562Z"
   },
   {
    "duration": 10,
    "start_time": "2022-12-08T09:21:26.575Z"
   },
   {
    "duration": 7,
    "start_time": "2022-12-08T09:21:26.586Z"
   },
   {
    "duration": 11,
    "start_time": "2022-12-08T09:21:26.596Z"
   },
   {
    "duration": 0,
    "start_time": "2022-12-08T09:21:26.608Z"
   },
   {
    "duration": 0,
    "start_time": "2022-12-08T09:21:26.610Z"
   },
   {
    "duration": 0,
    "start_time": "2022-12-08T09:21:26.611Z"
   },
   {
    "duration": 0,
    "start_time": "2022-12-08T09:21:26.637Z"
   },
   {
    "duration": 0,
    "start_time": "2022-12-08T09:21:26.640Z"
   },
   {
    "duration": 14,
    "start_time": "2022-12-08T09:26:11.182Z"
   },
   {
    "duration": 4,
    "start_time": "2022-12-08T09:27:08.277Z"
   },
   {
    "duration": 4,
    "start_time": "2022-12-08T09:27:12.014Z"
   },
   {
    "duration": 8,
    "start_time": "2022-12-08T09:27:20.060Z"
   },
   {
    "duration": 5,
    "start_time": "2022-12-08T09:28:01.617Z"
   },
   {
    "duration": 4,
    "start_time": "2022-12-08T09:28:04.454Z"
   },
   {
    "duration": 7,
    "start_time": "2022-12-08T09:28:06.987Z"
   },
   {
    "duration": 29,
    "start_time": "2022-12-08T09:28:13.914Z"
   },
   {
    "duration": 3,
    "start_time": "2022-12-08T09:35:48.575Z"
   },
   {
    "duration": 4,
    "start_time": "2022-12-08T09:35:51.436Z"
   },
   {
    "duration": 7,
    "start_time": "2022-12-08T09:35:54.513Z"
   },
   {
    "duration": 24,
    "start_time": "2022-12-08T09:35:57.800Z"
   },
   {
    "duration": 4,
    "start_time": "2022-12-08T09:36:09.522Z"
   },
   {
    "duration": 178,
    "start_time": "2022-12-08T09:36:09.528Z"
   },
   {
    "duration": 143,
    "start_time": "2022-12-08T09:36:09.708Z"
   },
   {
    "duration": 148,
    "start_time": "2022-12-08T09:36:09.853Z"
   },
   {
    "duration": 145,
    "start_time": "2022-12-08T09:36:10.005Z"
   },
   {
    "duration": 22,
    "start_time": "2022-12-08T09:36:10.152Z"
   },
   {
    "duration": 44,
    "start_time": "2022-12-08T09:36:10.177Z"
   },
   {
    "duration": 20,
    "start_time": "2022-12-08T09:36:10.223Z"
   },
   {
    "duration": 95,
    "start_time": "2022-12-08T09:36:10.247Z"
   },
   {
    "duration": 98,
    "start_time": "2022-12-08T09:36:10.345Z"
   },
   {
    "duration": 12,
    "start_time": "2022-12-08T09:36:10.445Z"
   },
   {
    "duration": 37,
    "start_time": "2022-12-08T09:36:10.459Z"
   },
   {
    "duration": 28,
    "start_time": "2022-12-08T09:36:10.498Z"
   },
   {
    "duration": 25,
    "start_time": "2022-12-08T09:36:10.528Z"
   },
   {
    "duration": 100,
    "start_time": "2022-12-08T09:36:10.639Z"
   },
   {
    "duration": 24,
    "start_time": "2022-12-08T09:36:10.741Z"
   },
   {
    "duration": 11,
    "start_time": "2022-12-08T09:36:10.767Z"
   },
   {
    "duration": 42,
    "start_time": "2022-12-08T09:36:10.779Z"
   },
   {
    "duration": 31,
    "start_time": "2022-12-08T09:36:10.822Z"
   },
   {
    "duration": 28,
    "start_time": "2022-12-08T09:36:10.855Z"
   },
   {
    "duration": 105,
    "start_time": "2022-12-08T09:36:10.938Z"
   },
   {
    "duration": 13,
    "start_time": "2022-12-08T09:36:11.045Z"
   },
   {
    "duration": 11,
    "start_time": "2022-12-08T09:36:11.060Z"
   },
   {
    "duration": 153,
    "start_time": "2022-12-08T09:36:11.073Z"
   },
   {
    "duration": 162,
    "start_time": "2022-12-08T09:36:11.228Z"
   },
   {
    "duration": 151,
    "start_time": "2022-12-08T09:36:11.392Z"
   },
   {
    "duration": 4,
    "start_time": "2022-12-08T09:36:11.545Z"
   },
   {
    "duration": 23,
    "start_time": "2022-12-08T09:36:11.551Z"
   },
   {
    "duration": 27,
    "start_time": "2022-12-08T09:36:11.577Z"
   },
   {
    "duration": 21,
    "start_time": "2022-12-08T09:36:11.606Z"
   },
   {
    "duration": 29,
    "start_time": "2022-12-08T09:36:11.629Z"
   },
   {
    "duration": 20,
    "start_time": "2022-12-08T09:36:11.660Z"
   },
   {
    "duration": 42,
    "start_time": "2022-12-08T09:36:11.681Z"
   },
   {
    "duration": 21,
    "start_time": "2022-12-08T09:36:11.724Z"
   },
   {
    "duration": 24,
    "start_time": "2022-12-08T09:36:11.747Z"
   },
   {
    "duration": 2005,
    "start_time": "2022-12-08T09:36:11.773Z"
   },
   {
    "duration": 5,
    "start_time": "2022-12-08T09:36:13.779Z"
   },
   {
    "duration": 786,
    "start_time": "2022-12-08T09:36:13.785Z"
   },
   {
    "duration": 0,
    "start_time": "2022-12-08T09:36:14.573Z"
   },
   {
    "duration": 0,
    "start_time": "2022-12-08T09:36:14.574Z"
   },
   {
    "duration": 0,
    "start_time": "2022-12-08T09:36:14.576Z"
   },
   {
    "duration": 4,
    "start_time": "2022-12-08T09:42:12.716Z"
   },
   {
    "duration": 4,
    "start_time": "2022-12-08T09:43:27.025Z"
   },
   {
    "duration": 2072,
    "start_time": "2022-12-08T09:44:16.291Z"
   },
   {
    "duration": 5,
    "start_time": "2022-12-08T09:44:31.200Z"
   },
   {
    "duration": 1817,
    "start_time": "2022-12-08T09:44:53.754Z"
   },
   {
    "duration": 1911,
    "start_time": "2022-12-08T09:45:27.111Z"
   },
   {
    "duration": 5,
    "start_time": "2022-12-08T09:45:50.246Z"
   },
   {
    "duration": 1413,
    "start_time": "2022-12-08T09:46:06.031Z"
   },
   {
    "duration": 175,
    "start_time": "2022-12-08T09:46:07.447Z"
   },
   {
    "duration": 163,
    "start_time": "2022-12-08T09:46:07.624Z"
   },
   {
    "duration": 162,
    "start_time": "2022-12-08T09:46:07.789Z"
   },
   {
    "duration": 162,
    "start_time": "2022-12-08T09:46:07.953Z"
   },
   {
    "duration": 35,
    "start_time": "2022-12-08T09:46:08.117Z"
   },
   {
    "duration": 26,
    "start_time": "2022-12-08T09:46:08.153Z"
   },
   {
    "duration": 76,
    "start_time": "2022-12-08T09:46:08.181Z"
   },
   {
    "duration": 21,
    "start_time": "2022-12-08T09:46:08.336Z"
   },
   {
    "duration": 11,
    "start_time": "2022-12-08T09:46:08.361Z"
   },
   {
    "duration": 4,
    "start_time": "2022-12-08T09:46:08.374Z"
   },
   {
    "duration": 79,
    "start_time": "2022-12-08T09:46:08.379Z"
   },
   {
    "duration": 27,
    "start_time": "2022-12-08T09:46:08.460Z"
   },
   {
    "duration": 55,
    "start_time": "2022-12-08T09:46:08.489Z"
   },
   {
    "duration": 94,
    "start_time": "2022-12-08T09:46:08.546Z"
   },
   {
    "duration": 49,
    "start_time": "2022-12-08T09:46:08.642Z"
   },
   {
    "duration": 5,
    "start_time": "2022-12-08T09:46:08.739Z"
   },
   {
    "duration": 35,
    "start_time": "2022-12-08T09:46:08.746Z"
   },
   {
    "duration": 28,
    "start_time": "2022-12-08T09:46:08.782Z"
   },
   {
    "duration": 41,
    "start_time": "2022-12-08T09:46:08.812Z"
   },
   {
    "duration": 97,
    "start_time": "2022-12-08T09:46:08.857Z"
   },
   {
    "duration": 35,
    "start_time": "2022-12-08T09:46:09.036Z"
   },
   {
    "duration": 18,
    "start_time": "2022-12-08T09:46:09.073Z"
   },
   {
    "duration": 185,
    "start_time": "2022-12-08T09:46:09.093Z"
   },
   {
    "duration": 173,
    "start_time": "2022-12-08T09:46:09.280Z"
   },
   {
    "duration": 166,
    "start_time": "2022-12-08T09:46:09.455Z"
   },
   {
    "duration": 12,
    "start_time": "2022-12-08T09:46:09.623Z"
   },
   {
    "duration": 19,
    "start_time": "2022-12-08T09:46:09.649Z"
   },
   {
    "duration": 30,
    "start_time": "2022-12-08T09:46:09.670Z"
   },
   {
    "duration": 14,
    "start_time": "2022-12-08T09:46:09.701Z"
   },
   {
    "duration": 37,
    "start_time": "2022-12-08T09:46:09.717Z"
   },
   {
    "duration": 20,
    "start_time": "2022-12-08T09:46:09.756Z"
   },
   {
    "duration": 43,
    "start_time": "2022-12-08T09:46:09.778Z"
   },
   {
    "duration": 29,
    "start_time": "2022-12-08T09:46:09.822Z"
   },
   {
    "duration": 16,
    "start_time": "2022-12-08T09:46:09.852Z"
   },
   {
    "duration": 1996,
    "start_time": "2022-12-08T09:46:09.870Z"
   },
   {
    "duration": 4,
    "start_time": "2022-12-08T09:46:11.868Z"
   },
   {
    "duration": 2077,
    "start_time": "2022-12-08T09:46:11.873Z"
   },
   {
    "duration": 5,
    "start_time": "2022-12-08T09:46:13.951Z"
   },
   {
    "duration": 1907,
    "start_time": "2022-12-08T09:46:13.959Z"
   },
   {
    "duration": 4,
    "start_time": "2022-12-08T09:46:15.868Z"
   },
   {
    "duration": 6,
    "start_time": "2022-12-08T09:48:57.804Z"
   },
   {
    "duration": 51,
    "start_time": "2022-12-08T10:16:04.045Z"
   },
   {
    "duration": 53,
    "start_time": "2022-12-08T11:34:49.852Z"
   },
   {
    "duration": 1378,
    "start_time": "2022-12-08T11:35:59.318Z"
   },
   {
    "duration": 196,
    "start_time": "2022-12-08T11:36:00.698Z"
   },
   {
    "duration": 176,
    "start_time": "2022-12-08T11:36:00.896Z"
   },
   {
    "duration": 157,
    "start_time": "2022-12-08T11:36:01.074Z"
   },
   {
    "duration": 153,
    "start_time": "2022-12-08T11:36:01.236Z"
   },
   {
    "duration": 21,
    "start_time": "2022-12-08T11:36:01.390Z"
   },
   {
    "duration": 70,
    "start_time": "2022-12-08T11:36:01.412Z"
   },
   {
    "duration": 55,
    "start_time": "2022-12-08T11:36:01.483Z"
   },
   {
    "duration": 107,
    "start_time": "2022-12-08T11:36:01.541Z"
   },
   {
    "duration": 38,
    "start_time": "2022-12-08T11:36:01.649Z"
   },
   {
    "duration": 14,
    "start_time": "2022-12-08T11:36:01.690Z"
   },
   {
    "duration": 58,
    "start_time": "2022-12-08T11:36:01.706Z"
   },
   {
    "duration": 59,
    "start_time": "2022-12-08T11:36:01.766Z"
   },
   {
    "duration": 77,
    "start_time": "2022-12-08T11:36:01.828Z"
   },
   {
    "duration": 164,
    "start_time": "2022-12-08T11:36:01.907Z"
   },
   {
    "duration": 21,
    "start_time": "2022-12-08T11:36:02.073Z"
   },
   {
    "duration": 15,
    "start_time": "2022-12-08T11:36:02.095Z"
   },
   {
    "duration": 66,
    "start_time": "2022-12-08T11:36:02.111Z"
   },
   {
    "duration": 27,
    "start_time": "2022-12-08T11:36:02.179Z"
   },
   {
    "duration": 36,
    "start_time": "2022-12-08T11:36:02.208Z"
   },
   {
    "duration": 16,
    "start_time": "2022-12-08T11:36:02.246Z"
   },
   {
    "duration": 107,
    "start_time": "2022-12-08T11:36:02.267Z"
   },
   {
    "duration": 7,
    "start_time": "2022-12-08T11:36:02.376Z"
   },
   {
    "duration": 235,
    "start_time": "2022-12-08T11:36:02.385Z"
   },
   {
    "duration": 201,
    "start_time": "2022-12-08T11:36:02.622Z"
   },
   {
    "duration": 173,
    "start_time": "2022-12-08T11:36:02.825Z"
   },
   {
    "duration": 5,
    "start_time": "2022-12-08T11:36:03.000Z"
   },
   {
    "duration": 13,
    "start_time": "2022-12-08T11:36:03.007Z"
   },
   {
    "duration": 55,
    "start_time": "2022-12-08T11:36:03.022Z"
   },
   {
    "duration": 22,
    "start_time": "2022-12-08T11:36:03.079Z"
   },
   {
    "duration": 10,
    "start_time": "2022-12-08T11:36:03.103Z"
   },
   {
    "duration": 9,
    "start_time": "2022-12-08T11:36:03.115Z"
   },
   {
    "duration": 41,
    "start_time": "2022-12-08T11:36:03.125Z"
   },
   {
    "duration": 8,
    "start_time": "2022-12-08T11:36:03.168Z"
   },
   {
    "duration": 10,
    "start_time": "2022-12-08T11:36:03.177Z"
   },
   {
    "duration": 1954,
    "start_time": "2022-12-08T11:36:03.189Z"
   },
   {
    "duration": 8,
    "start_time": "2022-12-08T11:36:05.144Z"
   },
   {
    "duration": 2076,
    "start_time": "2022-12-08T11:36:05.154Z"
   },
   {
    "duration": 14,
    "start_time": "2022-12-08T11:36:07.235Z"
   },
   {
    "duration": 2021,
    "start_time": "2022-12-08T11:36:07.251Z"
   },
   {
    "duration": 4,
    "start_time": "2022-12-08T11:36:09.276Z"
   },
   {
    "duration": 1612,
    "start_time": "2022-12-09T08:46:28.279Z"
   },
   {
    "duration": 256,
    "start_time": "2022-12-09T08:46:29.893Z"
   },
   {
    "duration": 223,
    "start_time": "2022-12-09T08:46:30.150Z"
   },
   {
    "duration": 222,
    "start_time": "2022-12-09T08:46:30.375Z"
   },
   {
    "duration": 154,
    "start_time": "2022-12-09T08:46:30.600Z"
   },
   {
    "duration": 21,
    "start_time": "2022-12-09T08:46:30.756Z"
   },
   {
    "duration": 58,
    "start_time": "2022-12-09T08:46:30.779Z"
   },
   {
    "duration": 74,
    "start_time": "2022-12-09T08:46:30.838Z"
   },
   {
    "duration": 9,
    "start_time": "2022-12-09T08:46:30.997Z"
   },
   {
    "duration": 97,
    "start_time": "2022-12-09T08:46:31.010Z"
   },
   {
    "duration": 41,
    "start_time": "2022-12-09T08:46:31.109Z"
   },
   {
    "duration": 46,
    "start_time": "2022-12-09T08:46:31.151Z"
   },
   {
    "duration": 26,
    "start_time": "2022-12-09T08:46:31.198Z"
   },
   {
    "duration": 18,
    "start_time": "2022-12-09T08:46:31.226Z"
   },
   {
    "duration": 103,
    "start_time": "2022-12-09T08:46:31.298Z"
   },
   {
    "duration": 36,
    "start_time": "2022-12-09T08:46:31.403Z"
   },
   {
    "duration": 51,
    "start_time": "2022-12-09T08:46:31.441Z"
   },
   {
    "duration": 72,
    "start_time": "2022-12-09T08:46:31.495Z"
   },
   {
    "duration": 65,
    "start_time": "2022-12-09T08:46:31.569Z"
   },
   {
    "duration": 62,
    "start_time": "2022-12-09T08:46:31.636Z"
   },
   {
    "duration": 97,
    "start_time": "2022-12-09T08:46:31.700Z"
   },
   {
    "duration": 15,
    "start_time": "2022-12-09T08:46:31.800Z"
   },
   {
    "duration": 19,
    "start_time": "2022-12-09T08:46:31.817Z"
   },
   {
    "duration": 210,
    "start_time": "2022-12-09T08:46:31.838Z"
   },
   {
    "duration": 158,
    "start_time": "2022-12-09T08:46:32.050Z"
   },
   {
    "duration": 162,
    "start_time": "2022-12-09T08:46:32.209Z"
   },
   {
    "duration": 5,
    "start_time": "2022-12-09T08:46:32.373Z"
   },
   {
    "duration": 8,
    "start_time": "2022-12-09T08:46:32.396Z"
   },
   {
    "duration": 8,
    "start_time": "2022-12-09T08:46:32.405Z"
   },
   {
    "duration": 8,
    "start_time": "2022-12-09T08:46:32.415Z"
   },
   {
    "duration": 8,
    "start_time": "2022-12-09T08:46:32.425Z"
   },
   {
    "duration": 14,
    "start_time": "2022-12-09T08:46:32.435Z"
   },
   {
    "duration": 13,
    "start_time": "2022-12-09T08:46:32.450Z"
   },
   {
    "duration": 33,
    "start_time": "2022-12-09T08:46:32.465Z"
   },
   {
    "duration": 8,
    "start_time": "2022-12-09T08:46:32.500Z"
   },
   {
    "duration": 2019,
    "start_time": "2022-12-09T08:46:32.510Z"
   },
   {
    "duration": 4,
    "start_time": "2022-12-09T08:46:34.531Z"
   },
   {
    "duration": 2214,
    "start_time": "2022-12-09T08:46:34.537Z"
   },
   {
    "duration": 4,
    "start_time": "2022-12-09T08:46:36.752Z"
   },
   {
    "duration": 2070,
    "start_time": "2022-12-09T08:46:36.757Z"
   },
   {
    "duration": 4,
    "start_time": "2022-12-09T08:46:38.830Z"
   },
   {
    "duration": 6,
    "start_time": "2022-12-09T09:00:12.025Z"
   },
   {
    "duration": 6,
    "start_time": "2022-12-09T09:23:48.629Z"
   },
   {
    "duration": 4,
    "start_time": "2022-12-09T09:24:22.991Z"
   },
   {
    "duration": 8,
    "start_time": "2022-12-09T09:25:50.026Z"
   },
   {
    "duration": 8,
    "start_time": "2022-12-09T09:26:16.066Z"
   },
   {
    "duration": 7,
    "start_time": "2022-12-09T09:26:20.147Z"
   },
   {
    "duration": 7,
    "start_time": "2022-12-09T09:26:33.533Z"
   },
   {
    "duration": 6,
    "start_time": "2022-12-09T09:27:25.014Z"
   },
   {
    "duration": 7,
    "start_time": "2022-12-09T09:27:54.514Z"
   },
   {
    "duration": 13,
    "start_time": "2022-12-09T09:31:18.954Z"
   },
   {
    "duration": 10,
    "start_time": "2022-12-09T09:34:33.940Z"
   },
   {
    "duration": 75,
    "start_time": "2022-12-09T10:03:21.307Z"
   },
   {
    "duration": 46,
    "start_time": "2022-12-09T10:04:33.689Z"
   },
   {
    "duration": 1407,
    "start_time": "2022-12-09T10:04:39.057Z"
   },
   {
    "duration": 230,
    "start_time": "2022-12-09T10:04:40.466Z"
   },
   {
    "duration": 202,
    "start_time": "2022-12-09T10:04:40.698Z"
   },
   {
    "duration": 206,
    "start_time": "2022-12-09T10:04:40.902Z"
   },
   {
    "duration": 117,
    "start_time": "2022-12-09T10:04:41.109Z"
   },
   {
    "duration": 18,
    "start_time": "2022-12-09T10:04:41.227Z"
   },
   {
    "duration": 23,
    "start_time": "2022-12-09T10:04:41.246Z"
   },
   {
    "duration": 38,
    "start_time": "2022-12-09T10:04:41.271Z"
   },
   {
    "duration": 86,
    "start_time": "2022-12-09T10:04:41.311Z"
   },
   {
    "duration": 101,
    "start_time": "2022-12-09T10:04:41.401Z"
   },
   {
    "duration": 4,
    "start_time": "2022-12-09T10:04:41.504Z"
   },
   {
    "duration": 21,
    "start_time": "2022-12-09T10:04:41.509Z"
   },
   {
    "duration": 26,
    "start_time": "2022-12-09T10:04:41.532Z"
   },
   {
    "duration": 52,
    "start_time": "2022-12-09T10:04:41.559Z"
   },
   {
    "duration": 87,
    "start_time": "2022-12-09T10:04:41.613Z"
   },
   {
    "duration": 103,
    "start_time": "2022-12-09T10:04:41.702Z"
   },
   {
    "duration": 4,
    "start_time": "2022-12-09T10:04:41.807Z"
   },
   {
    "duration": 25,
    "start_time": "2022-12-09T10:04:41.812Z"
   },
   {
    "duration": 26,
    "start_time": "2022-12-09T10:04:41.839Z"
   },
   {
    "duration": 42,
    "start_time": "2022-12-09T10:04:41.867Z"
   },
   {
    "duration": 87,
    "start_time": "2022-12-09T10:04:41.912Z"
   },
   {
    "duration": 96,
    "start_time": "2022-12-09T10:04:42.001Z"
   },
   {
    "duration": 3,
    "start_time": "2022-12-09T10:04:42.099Z"
   },
   {
    "duration": 171,
    "start_time": "2022-12-09T10:04:42.104Z"
   },
   {
    "duration": 150,
    "start_time": "2022-12-09T10:04:42.277Z"
   },
   {
    "duration": 153,
    "start_time": "2022-12-09T10:04:42.429Z"
   },
   {
    "duration": 17,
    "start_time": "2022-12-09T10:04:42.584Z"
   },
   {
    "duration": 13,
    "start_time": "2022-12-09T10:04:42.605Z"
   },
   {
    "duration": 8,
    "start_time": "2022-12-09T10:04:42.620Z"
   },
   {
    "duration": 8,
    "start_time": "2022-12-09T10:04:42.630Z"
   },
   {
    "duration": 14,
    "start_time": "2022-12-09T10:04:42.640Z"
   },
   {
    "duration": 95,
    "start_time": "2022-12-09T10:04:42.656Z"
   },
   {
    "duration": 0,
    "start_time": "2022-12-09T10:04:42.752Z"
   },
   {
    "duration": 0,
    "start_time": "2022-12-09T10:04:42.754Z"
   },
   {
    "duration": 0,
    "start_time": "2022-12-09T10:04:42.755Z"
   },
   {
    "duration": 0,
    "start_time": "2022-12-09T10:04:42.756Z"
   },
   {
    "duration": 0,
    "start_time": "2022-12-09T10:04:42.758Z"
   },
   {
    "duration": 0,
    "start_time": "2022-12-09T10:04:42.759Z"
   },
   {
    "duration": 0,
    "start_time": "2022-12-09T10:04:42.760Z"
   },
   {
    "duration": 0,
    "start_time": "2022-12-09T10:04:42.762Z"
   },
   {
    "duration": 0,
    "start_time": "2022-12-09T10:04:42.763Z"
   },
   {
    "duration": 0,
    "start_time": "2022-12-09T10:04:42.764Z"
   },
   {
    "duration": 10,
    "start_time": "2022-12-09T10:08:39.588Z"
   },
   {
    "duration": 4,
    "start_time": "2022-12-09T10:11:40.279Z"
   },
   {
    "duration": 168,
    "start_time": "2022-12-09T10:11:40.284Z"
   },
   {
    "duration": 137,
    "start_time": "2022-12-09T10:11:40.454Z"
   },
   {
    "duration": 138,
    "start_time": "2022-12-09T10:11:40.595Z"
   },
   {
    "duration": 116,
    "start_time": "2022-12-09T10:11:40.736Z"
   },
   {
    "duration": 23,
    "start_time": "2022-12-09T10:11:40.854Z"
   },
   {
    "duration": 37,
    "start_time": "2022-12-09T10:11:40.879Z"
   },
   {
    "duration": 14,
    "start_time": "2022-12-09T10:11:40.917Z"
   },
   {
    "duration": 8,
    "start_time": "2022-12-09T10:11:40.996Z"
   },
   {
    "duration": 93,
    "start_time": "2022-12-09T10:11:41.008Z"
   },
   {
    "duration": 3,
    "start_time": "2022-12-09T10:11:41.104Z"
   },
   {
    "duration": 25,
    "start_time": "2022-12-09T10:11:41.109Z"
   },
   {
    "duration": 21,
    "start_time": "2022-12-09T10:11:41.135Z"
   },
   {
    "duration": 43,
    "start_time": "2022-12-09T10:11:41.157Z"
   },
   {
    "duration": 96,
    "start_time": "2022-12-09T10:11:41.201Z"
   },
   {
    "duration": 102,
    "start_time": "2022-12-09T10:11:41.299Z"
   },
   {
    "duration": 18,
    "start_time": "2022-12-09T10:11:41.403Z"
   },
   {
    "duration": 28,
    "start_time": "2022-12-09T10:11:41.422Z"
   },
   {
    "duration": 21,
    "start_time": "2022-12-09T10:11:41.452Z"
   },
   {
    "duration": 32,
    "start_time": "2022-12-09T10:11:41.475Z"
   },
   {
    "duration": 93,
    "start_time": "2022-12-09T10:11:41.509Z"
   },
   {
    "duration": 102,
    "start_time": "2022-12-09T10:11:41.604Z"
   },
   {
    "duration": 12,
    "start_time": "2022-12-09T10:11:41.707Z"
   },
   {
    "duration": 158,
    "start_time": "2022-12-09T10:11:41.720Z"
   },
   {
    "duration": 160,
    "start_time": "2022-12-09T10:11:41.880Z"
   },
   {
    "duration": 208,
    "start_time": "2022-12-09T10:11:42.042Z"
   },
   {
    "duration": 4,
    "start_time": "2022-12-09T10:11:42.252Z"
   },
   {
    "duration": 10,
    "start_time": "2022-12-09T10:11:42.257Z"
   },
   {
    "duration": 9,
    "start_time": "2022-12-09T10:11:42.270Z"
   },
   {
    "duration": 7,
    "start_time": "2022-12-09T10:11:42.296Z"
   },
   {
    "duration": 4,
    "start_time": "2022-12-09T10:11:42.305Z"
   },
   {
    "duration": 3,
    "start_time": "2022-12-09T10:12:07.175Z"
   },
   {
    "duration": 153,
    "start_time": "2022-12-09T10:12:07.181Z"
   },
   {
    "duration": 136,
    "start_time": "2022-12-09T10:12:07.336Z"
   },
   {
    "duration": 133,
    "start_time": "2022-12-09T10:12:07.474Z"
   },
   {
    "duration": 123,
    "start_time": "2022-12-09T10:12:07.609Z"
   },
   {
    "duration": 21,
    "start_time": "2022-12-09T10:12:07.734Z"
   },
   {
    "duration": 20,
    "start_time": "2022-12-09T10:12:07.756Z"
   },
   {
    "duration": 105,
    "start_time": "2022-12-09T10:12:07.797Z"
   },
   {
    "duration": 6,
    "start_time": "2022-12-09T10:12:07.997Z"
   },
   {
    "duration": 7,
    "start_time": "2022-12-09T10:12:08.004Z"
   },
   {
    "duration": 3,
    "start_time": "2022-12-09T10:12:08.013Z"
   },
   {
    "duration": 26,
    "start_time": "2022-12-09T10:12:08.018Z"
   },
   {
    "duration": 20,
    "start_time": "2022-12-09T10:12:08.046Z"
   },
   {
    "duration": 17,
    "start_time": "2022-12-09T10:12:08.097Z"
   },
   {
    "duration": 87,
    "start_time": "2022-12-09T10:12:08.115Z"
   },
   {
    "duration": 110,
    "start_time": "2022-12-09T10:12:08.203Z"
   },
   {
    "duration": 4,
    "start_time": "2022-12-09T10:12:08.314Z"
   },
   {
    "duration": 27,
    "start_time": "2022-12-09T10:12:08.319Z"
   },
   {
    "duration": 21,
    "start_time": "2022-12-09T10:12:08.347Z"
   },
   {
    "duration": 29,
    "start_time": "2022-12-09T10:12:08.370Z"
   },
   {
    "duration": 101,
    "start_time": "2022-12-09T10:12:08.401Z"
   },
   {
    "duration": 97,
    "start_time": "2022-12-09T10:12:08.504Z"
   },
   {
    "duration": 3,
    "start_time": "2022-12-09T10:12:08.603Z"
   },
   {
    "duration": 161,
    "start_time": "2022-12-09T10:12:08.607Z"
   },
   {
    "duration": 149,
    "start_time": "2022-12-09T10:12:08.769Z"
   },
   {
    "duration": 142,
    "start_time": "2022-12-09T10:12:08.919Z"
   },
   {
    "duration": 5,
    "start_time": "2022-12-09T10:12:09.062Z"
   },
   {
    "duration": 9,
    "start_time": "2022-12-09T10:12:09.069Z"
   },
   {
    "duration": 6,
    "start_time": "2022-12-09T10:12:09.097Z"
   },
   {
    "duration": 6,
    "start_time": "2022-12-09T10:12:09.104Z"
   },
   {
    "duration": 5,
    "start_time": "2022-12-09T10:12:09.112Z"
   },
   {
    "duration": 5,
    "start_time": "2022-12-09T10:12:09.119Z"
   },
   {
    "duration": 9,
    "start_time": "2022-12-09T10:12:09.125Z"
   },
   {
    "duration": 6,
    "start_time": "2022-12-09T10:12:09.136Z"
   },
   {
    "duration": 7,
    "start_time": "2022-12-09T10:12:09.143Z"
   },
   {
    "duration": 583,
    "start_time": "2022-12-09T10:12:09.152Z"
   },
   {
    "duration": 4,
    "start_time": "2022-12-09T10:12:09.736Z"
   },
   {
    "duration": 1863,
    "start_time": "2022-12-09T10:12:09.742Z"
   },
   {
    "duration": 5,
    "start_time": "2022-12-09T10:12:11.607Z"
   },
   {
    "duration": 2772,
    "start_time": "2022-12-09T10:12:11.613Z"
   },
   {
    "duration": 11,
    "start_time": "2022-12-09T10:12:14.386Z"
   },
   {
    "duration": 570,
    "start_time": "2022-12-09T10:13:58.353Z"
   },
   {
    "duration": 5,
    "start_time": "2022-12-09T10:14:25.691Z"
   },
   {
    "duration": 556,
    "start_time": "2022-12-09T10:14:29.201Z"
   },
   {
    "duration": 4,
    "start_time": "2022-12-09T10:14:32.527Z"
   },
   {
    "duration": 661,
    "start_time": "2022-12-09T10:14:35.667Z"
   },
   {
    "duration": 4,
    "start_time": "2022-12-09T10:14:39.111Z"
   },
   {
    "duration": 8,
    "start_time": "2022-12-09T10:21:14.939Z"
   },
   {
    "duration": 8,
    "start_time": "2022-12-09T10:21:24.683Z"
   },
   {
    "duration": 4,
    "start_time": "2022-12-09T10:21:37.099Z"
   },
   {
    "duration": 9,
    "start_time": "2022-12-09T10:21:52.993Z"
   },
   {
    "duration": 8,
    "start_time": "2022-12-09T10:22:22.126Z"
   },
   {
    "duration": 8,
    "start_time": "2022-12-09T10:22:37.867Z"
   },
   {
    "duration": 12,
    "start_time": "2022-12-09T10:23:24.164Z"
   },
   {
    "duration": 3,
    "start_time": "2022-12-09T10:23:30.125Z"
   },
   {
    "duration": 4,
    "start_time": "2022-12-09T10:24:20.936Z"
   },
   {
    "duration": 4,
    "start_time": "2022-12-09T10:24:38.479Z"
   },
   {
    "duration": 577,
    "start_time": "2022-12-09T10:24:52.806Z"
   },
   {
    "duration": 4,
    "start_time": "2022-12-09T10:24:56.091Z"
   },
   {
    "duration": 562,
    "start_time": "2022-12-09T10:24:58.953Z"
   },
   {
    "duration": 5,
    "start_time": "2022-12-09T10:25:01.496Z"
   },
   {
    "duration": 589,
    "start_time": "2022-12-09T10:25:03.783Z"
   },
   {
    "duration": 4,
    "start_time": "2022-12-09T10:25:06.912Z"
   },
   {
    "duration": 1246,
    "start_time": "2022-12-09T10:29:10.010Z"
   },
   {
    "duration": 153,
    "start_time": "2022-12-09T10:29:11.258Z"
   },
   {
    "duration": 136,
    "start_time": "2022-12-09T10:29:11.412Z"
   },
   {
    "duration": 134,
    "start_time": "2022-12-09T10:29:11.550Z"
   },
   {
    "duration": 133,
    "start_time": "2022-12-09T10:29:11.686Z"
   },
   {
    "duration": 19,
    "start_time": "2022-12-09T10:29:11.821Z"
   },
   {
    "duration": 26,
    "start_time": "2022-12-09T10:29:11.842Z"
   },
   {
    "duration": 129,
    "start_time": "2022-12-09T10:29:11.870Z"
   },
   {
    "duration": 96,
    "start_time": "2022-12-09T10:29:12.000Z"
   },
   {
    "duration": 97,
    "start_time": "2022-12-09T10:29:12.101Z"
   },
   {
    "duration": 4,
    "start_time": "2022-12-09T10:29:12.199Z"
   },
   {
    "duration": 24,
    "start_time": "2022-12-09T10:29:12.204Z"
   },
   {
    "duration": 23,
    "start_time": "2022-12-09T10:29:12.230Z"
   },
   {
    "duration": 47,
    "start_time": "2022-12-09T10:29:12.254Z"
   },
   {
    "duration": 97,
    "start_time": "2022-12-09T10:29:12.305Z"
   },
   {
    "duration": 97,
    "start_time": "2022-12-09T10:29:12.404Z"
   },
   {
    "duration": 3,
    "start_time": "2022-12-09T10:29:12.503Z"
   },
   {
    "duration": 22,
    "start_time": "2022-12-09T10:29:12.508Z"
   },
   {
    "duration": 24,
    "start_time": "2022-12-09T10:29:12.531Z"
   },
   {
    "duration": 49,
    "start_time": "2022-12-09T10:29:12.556Z"
   },
   {
    "duration": 92,
    "start_time": "2022-12-09T10:29:12.607Z"
   },
   {
    "duration": 105,
    "start_time": "2022-12-09T10:29:12.701Z"
   },
   {
    "duration": 4,
    "start_time": "2022-12-09T10:29:12.807Z"
   },
   {
    "duration": 167,
    "start_time": "2022-12-09T10:29:12.812Z"
   },
   {
    "duration": 161,
    "start_time": "2022-12-09T10:29:12.981Z"
   },
   {
    "duration": 146,
    "start_time": "2022-12-09T10:29:13.144Z"
   },
   {
    "duration": 5,
    "start_time": "2022-12-09T10:29:13.296Z"
   },
   {
    "duration": 12,
    "start_time": "2022-12-09T10:29:13.304Z"
   },
   {
    "duration": 7,
    "start_time": "2022-12-09T10:29:13.318Z"
   },
   {
    "duration": 7,
    "start_time": "2022-12-09T10:29:13.326Z"
   },
   {
    "duration": 4,
    "start_time": "2022-12-09T10:29:13.335Z"
   },
   {
    "duration": 5,
    "start_time": "2022-12-09T10:29:13.340Z"
   },
   {
    "duration": 9,
    "start_time": "2022-12-09T10:29:13.346Z"
   },
   {
    "duration": 6,
    "start_time": "2022-12-09T10:29:13.357Z"
   },
   {
    "duration": 38,
    "start_time": "2022-12-09T10:29:13.364Z"
   },
   {
    "duration": 612,
    "start_time": "2022-12-09T10:29:13.404Z"
   },
   {
    "duration": 3,
    "start_time": "2022-12-09T10:29:14.018Z"
   },
   {
    "duration": 582,
    "start_time": "2022-12-09T10:29:14.023Z"
   },
   {
    "duration": 4,
    "start_time": "2022-12-09T10:29:14.606Z"
   },
   {
    "duration": 613,
    "start_time": "2022-12-09T10:29:14.612Z"
   },
   {
    "duration": 4,
    "start_time": "2022-12-09T10:29:15.228Z"
   },
   {
    "duration": 1303,
    "start_time": "2022-12-10T10:01:37.722Z"
   },
   {
    "duration": 620,
    "start_time": "2022-12-10T10:01:39.027Z"
   },
   {
    "duration": 558,
    "start_time": "2022-12-10T10:01:39.648Z"
   },
   {
    "duration": 586,
    "start_time": "2022-12-10T10:01:40.208Z"
   },
   {
    "duration": 122,
    "start_time": "2022-12-10T10:01:40.797Z"
   },
   {
    "duration": 19,
    "start_time": "2022-12-10T10:01:40.922Z"
   },
   {
    "duration": 25,
    "start_time": "2022-12-10T10:01:40.943Z"
   },
   {
    "duration": 56,
    "start_time": "2022-12-10T10:01:40.969Z"
   },
   {
    "duration": 97,
    "start_time": "2022-12-10T10:01:41.029Z"
   },
   {
    "duration": 97,
    "start_time": "2022-12-10T10:01:41.130Z"
   },
   {
    "duration": 3,
    "start_time": "2022-12-10T10:01:41.229Z"
   },
   {
    "duration": 29,
    "start_time": "2022-12-10T10:01:41.234Z"
   },
   {
    "duration": 31,
    "start_time": "2022-12-10T10:01:41.265Z"
   },
   {
    "duration": 42,
    "start_time": "2022-12-10T10:01:41.298Z"
   },
   {
    "duration": 180,
    "start_time": "2022-12-10T10:01:41.342Z"
   },
   {
    "duration": 6,
    "start_time": "2022-12-10T10:01:41.524Z"
   },
   {
    "duration": 10,
    "start_time": "2022-12-10T10:01:41.532Z"
   },
   {
    "duration": 23,
    "start_time": "2022-12-10T10:01:41.544Z"
   },
   {
    "duration": 34,
    "start_time": "2022-12-10T10:01:41.568Z"
   },
   {
    "duration": 21,
    "start_time": "2022-12-10T10:01:41.621Z"
   },
   {
    "duration": 83,
    "start_time": "2022-12-10T10:01:41.644Z"
   },
   {
    "duration": 100,
    "start_time": "2022-12-10T10:01:41.732Z"
   },
   {
    "duration": 4,
    "start_time": "2022-12-10T10:01:41.833Z"
   },
   {
    "duration": 170,
    "start_time": "2022-12-10T10:01:41.839Z"
   },
   {
    "duration": 160,
    "start_time": "2022-12-10T10:01:42.011Z"
   },
   {
    "duration": 142,
    "start_time": "2022-12-10T10:01:42.172Z"
   },
   {
    "duration": 5,
    "start_time": "2022-12-10T10:01:42.322Z"
   },
   {
    "duration": 10,
    "start_time": "2022-12-10T10:01:42.330Z"
   },
   {
    "duration": 8,
    "start_time": "2022-12-10T10:01:42.342Z"
   },
   {
    "duration": 7,
    "start_time": "2022-12-10T10:01:42.351Z"
   },
   {
    "duration": 4,
    "start_time": "2022-12-10T10:01:42.360Z"
   },
   {
    "duration": 14,
    "start_time": "2022-12-10T10:01:42.366Z"
   },
   {
    "duration": 11,
    "start_time": "2022-12-10T10:01:42.381Z"
   },
   {
    "duration": 31,
    "start_time": "2022-12-10T10:01:42.393Z"
   },
   {
    "duration": 7,
    "start_time": "2022-12-10T10:01:42.426Z"
   },
   {
    "duration": 596,
    "start_time": "2022-12-10T10:01:42.435Z"
   },
   {
    "duration": 4,
    "start_time": "2022-12-10T10:01:43.033Z"
   },
   {
    "duration": 574,
    "start_time": "2022-12-10T10:01:43.038Z"
   },
   {
    "duration": 8,
    "start_time": "2022-12-10T10:01:43.614Z"
   },
   {
    "duration": 603,
    "start_time": "2022-12-10T10:01:43.623Z"
   },
   {
    "duration": 5,
    "start_time": "2022-12-10T10:01:44.228Z"
   }
  ],
  "kernelspec": {
   "display_name": "Python 3 (ipykernel)",
   "language": "python",
   "name": "python3"
  },
  "language_info": {
   "codemirror_mode": {
    "name": "ipython",
    "version": 3
   },
   "file_extension": ".py",
   "mimetype": "text/x-python",
   "name": "python",
   "nbconvert_exporter": "python",
   "pygments_lexer": "ipython3",
   "version": "3.9.13"
  },
  "toc": {
   "base_numbering": 1,
   "nav_menu": {},
   "number_sections": true,
   "sideBar": true,
   "skip_h1_title": true,
   "title_cell": "Table of Contents",
   "title_sidebar": "Contents",
   "toc_cell": false,
   "toc_position": {
    "height": "calc(100% - 180px)",
    "left": "10px",
    "top": "150px",
    "width": "343px"
   },
   "toc_section_display": true,
   "toc_window_display": true
  }
 },
 "nbformat": 4,
 "nbformat_minor": 4
}
